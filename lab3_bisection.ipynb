{
  "nbformat": 4,
  "nbformat_minor": 0,
  "metadata": {
    "colab": {
      "name": "lab3_bisection.ipynb",
      "provenance": [],
      "authorship_tag": "ABX9TyNBGBrWMQM7ia+35U89y609",
      "include_colab_link": true
    },
    "kernelspec": {
      "name": "python3",
      "display_name": "Python 3"
    }
  },
  "cells": [
    {
      "cell_type": "markdown",
      "metadata": {
        "id": "view-in-github",
        "colab_type": "text"
      },
      "source": [
        "<a href=\"https://colab.research.google.com/github/marcinwolter/ANOVA_2019/blob/master/lab3_bisection.ipynb\" target=\"_parent\"><img src=\"https://colab.research.google.com/assets/colab-badge.svg\" alt=\"Open In Colab\"/></a>"
      ]
    },
    {
      "cell_type": "markdown",
      "metadata": {
        "colab_type": "text",
        "id": "HOccJy245b3Z"
      },
      "source": [
        "# **Bisection method algorithm**"
      ]
    },
    {
      "cell_type": "code",
      "metadata": {
        "id": "mWVeHbYy5HAF",
        "colab_type": "code",
        "colab": {
          "base_uri": "https://localhost:8080/",
          "height": 503
        },
        "outputId": "a3464f9d-0917-4699-83ff-72c7266ecf52"
      },
      "source": [
        "# Defining Function\n",
        "def f(x):\n",
        "   return x**3-5*x-9\n",
        "\n",
        "# Implementing Bisection Method\n",
        "def bisection(x0,x1,e):\n",
        "   step = 1\n",
        "   print('\\n\\n*** BISECTION METHOD IMPLEMENTATION ***')\n",
        "   condition = True\n",
        "   while condition:\n",
        "      x2 = (x0 + x1)/2\n",
        "      print('Iteration-%d, x2 = %0.6f and f(x2) = %0.6f' % (step, x2, f(x2)))\n",
        "      if f(x0) * f(x2) < 0:\n",
        "         x1 = x2\n",
        "      else:\n",
        "         x0 = x2\n",
        "\n",
        "      step = step + 1\n",
        "      condition = abs(f(x2)) > e\n",
        "\n",
        "   print('\\nRequired Root is : %0.8f' % x2)\n",
        "\n",
        "\n",
        "# Input Section\n",
        "x0 = input('First Guess: ')\n",
        "x1 = input('Second Guess: ')\n",
        "e = input('Tolerable Error: ')\n",
        "# Converting input to float\n",
        "x0 = float(x0)\n",
        "x1 = float(x1)\n",
        "e = float(e)\n",
        "#Note: You can combine above two section like this\n",
        "# x0 = float(input('First Guess: '))\n",
        "# x1 = float(input('Second Guess: '))\n",
        "# e = float(input('Tolerable Error: '))\n",
        "# Checking Correctness of initial guess values and bisecting\n",
        "if f(x0) * f(x1) > 0.0:\n",
        "   print('Given guess values do not bracket the root.')\n",
        "   print('Try Again with different guess values.')\n",
        "else:\n",
        "   bisection(x0,x1,e)\n"
      ],
      "execution_count": 3,
      "outputs": [
        {
          "output_type": "stream",
          "text": [
            "First Guess: 0\n",
            "Second Guess: 100\n",
            "Tolerable Error: 0.001\n",
            "\n",
            "\n",
            "*** BISECTION METHOD IMPLEMENTATION ***\n",
            "Iteration-1, x2 = 50.000000 and f(x2) = 124741.000000\n",
            "Iteration-2, x2 = 25.000000 and f(x2) = 15491.000000\n",
            "Iteration-3, x2 = 12.500000 and f(x2) = 1881.625000\n",
            "Iteration-4, x2 = 6.250000 and f(x2) = 203.890625\n",
            "Iteration-5, x2 = 3.125000 and f(x2) = 5.892578\n",
            "Iteration-6, x2 = 1.562500 and f(x2) = -12.997803\n",
            "Iteration-7, x2 = 2.343750 and f(x2) = -7.844147\n",
            "Iteration-8, x2 = 2.734375 and f(x2) = -2.227482\n",
            "Iteration-9, x2 = 2.929688 and f(x2) = 1.497272\n",
            "Iteration-10, x2 = 2.832031 and f(x2) = -0.446130\n",
            "Iteration-11, x2 = 2.880859 and f(x2) = 0.504966\n",
            "Iteration-12, x2 = 2.856445 and f(x2) = 0.024310\n",
            "Iteration-13, x2 = 2.844238 and f(x2) = -0.212181\n",
            "Iteration-14, x2 = 2.850342 and f(x2) = -0.094254\n",
            "Iteration-15, x2 = 2.853394 and f(x2) = -0.035052\n",
            "Iteration-16, x2 = 2.854919 and f(x2) = -0.005391\n",
            "Iteration-17, x2 = 2.855682 and f(x2) = 0.009455\n",
            "Iteration-18, x2 = 2.855301 and f(x2) = 0.002031\n",
            "Iteration-19, x2 = 2.855110 and f(x2) = -0.001680\n",
            "Iteration-20, x2 = 2.855206 and f(x2) = 0.000175\n",
            "\n",
            "Required Root is : 2.85520554\n"
          ],
          "name": "stdout"
        }
      ]
    }
  ]
}