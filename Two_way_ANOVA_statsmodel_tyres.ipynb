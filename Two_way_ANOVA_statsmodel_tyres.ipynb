{
  "nbformat": 4,
  "nbformat_minor": 0,
  "metadata": {
    "colab": {
      "name": "Two-way_ANOVA_statsmodel_tyres.ipynb",
      "provenance": []
    },
    "kernelspec": {
      "name": "python3",
      "display_name": "Python 3"
    }
  },
  "cells": [
    {
      "cell_type": "markdown",
      "metadata": {
        "id": "f0eQ7wkrAY8n",
        "colab_type": "text"
      },
      "source": [
        "## Two Way ANOVA using Statsmodels"
      ]
    },
    {
      "cell_type": "code",
      "metadata": {
        "id": "6lTEgANnAY8s",
        "colab_type": "code",
        "outputId": "6788fa88-a9c8-4cdc-f8fc-1449b3f8ca79",
        "colab": {
          "base_uri": "https://localhost:8080/",
          "height": 1000
        }
      },
      "source": [
        "import pandas as pd\n",
        "import statsmodels.api as sm\n",
        "from statsmodels.formula.api import ols\n",
        "from statsmodels.stats.anova import anova_lm\n",
        "import matplotlib.pyplot as plt\n",
        "\n",
        "data = 'http://nz14-46.ifj.edu.pl/ANOVA/tyres2.csv'\n",
        "\n",
        "df = pd.read_csv(data, index_col=0)\n",
        "\n",
        "df.head(60)\n"
      ],
      "execution_count": 23,
      "outputs": [
        {
          "output_type": "execute_result",
          "data": {
            "text/html": [
              "<div>\n",
              "<style scoped>\n",
              "    .dataframe tbody tr th:only-of-type {\n",
              "        vertical-align: middle;\n",
              "    }\n",
              "\n",
              "    .dataframe tbody tr th {\n",
              "        vertical-align: top;\n",
              "    }\n",
              "\n",
              "    .dataframe thead th {\n",
              "        text-align: right;\n",
              "    }\n",
              "</style>\n",
              "<table border=\"1\" class=\"dataframe\">\n",
              "  <thead>\n",
              "    <tr style=\"text-align: right;\">\n",
              "      <th></th>\n",
              "      <th>miles</th>\n",
              "      <th>manufacture</th>\n",
              "      <th>surface</th>\n",
              "    </tr>\n",
              "  </thead>\n",
              "  <tbody>\n",
              "    <tr>\n",
              "      <th>1</th>\n",
              "      <td>36</td>\n",
              "      <td>X</td>\n",
              "      <td>Asphalt</td>\n",
              "    </tr>\n",
              "    <tr>\n",
              "      <th>2</th>\n",
              "      <td>39</td>\n",
              "      <td>X</td>\n",
              "      <td>Asphalt</td>\n",
              "    </tr>\n",
              "    <tr>\n",
              "      <th>3</th>\n",
              "      <td>39</td>\n",
              "      <td>X</td>\n",
              "      <td>Asphalt</td>\n",
              "    </tr>\n",
              "    <tr>\n",
              "      <th>4</th>\n",
              "      <td>38</td>\n",
              "      <td>X</td>\n",
              "      <td>Asphalt</td>\n",
              "    </tr>\n",
              "    <tr>\n",
              "      <th>5</th>\n",
              "      <td>38</td>\n",
              "      <td>X</td>\n",
              "      <td>Concrete</td>\n",
              "    </tr>\n",
              "    <tr>\n",
              "      <th>6</th>\n",
              "      <td>40</td>\n",
              "      <td>X</td>\n",
              "      <td>Concrete</td>\n",
              "    </tr>\n",
              "    <tr>\n",
              "      <th>7</th>\n",
              "      <td>41</td>\n",
              "      <td>X</td>\n",
              "      <td>Concrete</td>\n",
              "    </tr>\n",
              "    <tr>\n",
              "      <th>8</th>\n",
              "      <td>40</td>\n",
              "      <td>X</td>\n",
              "      <td>Concrete</td>\n",
              "    </tr>\n",
              "    <tr>\n",
              "      <th>9</th>\n",
              "      <td>34</td>\n",
              "      <td>X</td>\n",
              "      <td>Gravel</td>\n",
              "    </tr>\n",
              "    <tr>\n",
              "      <th>10</th>\n",
              "      <td>32</td>\n",
              "      <td>X</td>\n",
              "      <td>Gravel</td>\n",
              "    </tr>\n",
              "    <tr>\n",
              "      <th>11</th>\n",
              "      <td>34</td>\n",
              "      <td>X</td>\n",
              "      <td>Gravel</td>\n",
              "    </tr>\n",
              "    <tr>\n",
              "      <th>12</th>\n",
              "      <td>35</td>\n",
              "      <td>X</td>\n",
              "      <td>Gravel</td>\n",
              "    </tr>\n",
              "    <tr>\n",
              "      <th>13</th>\n",
              "      <td>42</td>\n",
              "      <td>Y</td>\n",
              "      <td>Asphalt</td>\n",
              "    </tr>\n",
              "    <tr>\n",
              "      <th>14</th>\n",
              "      <td>40</td>\n",
              "      <td>Y</td>\n",
              "      <td>Asphalt</td>\n",
              "    </tr>\n",
              "    <tr>\n",
              "      <th>15</th>\n",
              "      <td>39</td>\n",
              "      <td>Y</td>\n",
              "      <td>Asphalt</td>\n",
              "    </tr>\n",
              "    <tr>\n",
              "      <th>16</th>\n",
              "      <td>42</td>\n",
              "      <td>Y</td>\n",
              "      <td>Asphalt</td>\n",
              "    </tr>\n",
              "    <tr>\n",
              "      <th>17</th>\n",
              "      <td>42</td>\n",
              "      <td>Y</td>\n",
              "      <td>Concrete</td>\n",
              "    </tr>\n",
              "    <tr>\n",
              "      <th>18</th>\n",
              "      <td>45</td>\n",
              "      <td>Y</td>\n",
              "      <td>Concrete</td>\n",
              "    </tr>\n",
              "    <tr>\n",
              "      <th>19</th>\n",
              "      <td>48</td>\n",
              "      <td>Y</td>\n",
              "      <td>Concrete</td>\n",
              "    </tr>\n",
              "    <tr>\n",
              "      <th>20</th>\n",
              "      <td>47</td>\n",
              "      <td>Y</td>\n",
              "      <td>Concrete</td>\n",
              "    </tr>\n",
              "    <tr>\n",
              "      <th>21</th>\n",
              "      <td>34</td>\n",
              "      <td>Y</td>\n",
              "      <td>Gravel</td>\n",
              "    </tr>\n",
              "    <tr>\n",
              "      <th>22</th>\n",
              "      <td>34</td>\n",
              "      <td>Y</td>\n",
              "      <td>Gravel</td>\n",
              "    </tr>\n",
              "    <tr>\n",
              "      <th>23</th>\n",
              "      <td>30</td>\n",
              "      <td>Y</td>\n",
              "      <td>Gravel</td>\n",
              "    </tr>\n",
              "    <tr>\n",
              "      <th>24</th>\n",
              "      <td>31</td>\n",
              "      <td>Y</td>\n",
              "      <td>Gravel</td>\n",
              "    </tr>\n",
              "    <tr>\n",
              "      <th>25</th>\n",
              "      <td>32</td>\n",
              "      <td>Z</td>\n",
              "      <td>Asphalt</td>\n",
              "    </tr>\n",
              "    <tr>\n",
              "      <th>26</th>\n",
              "      <td>36</td>\n",
              "      <td>Z</td>\n",
              "      <td>Asphalt</td>\n",
              "    </tr>\n",
              "    <tr>\n",
              "      <th>27</th>\n",
              "      <td>35</td>\n",
              "      <td>Z</td>\n",
              "      <td>Asphalt</td>\n",
              "    </tr>\n",
              "    <tr>\n",
              "      <th>28</th>\n",
              "      <td>34</td>\n",
              "      <td>Z</td>\n",
              "      <td>Asphalt</td>\n",
              "    </tr>\n",
              "    <tr>\n",
              "      <th>29</th>\n",
              "      <td>37</td>\n",
              "      <td>Z</td>\n",
              "      <td>Concrete</td>\n",
              "    </tr>\n",
              "    <tr>\n",
              "      <th>30</th>\n",
              "      <td>33</td>\n",
              "      <td>Z</td>\n",
              "      <td>Concrete</td>\n",
              "    </tr>\n",
              "    <tr>\n",
              "      <th>31</th>\n",
              "      <td>33</td>\n",
              "      <td>Z</td>\n",
              "      <td>Concrete</td>\n",
              "    </tr>\n",
              "    <tr>\n",
              "      <th>32</th>\n",
              "      <td>34</td>\n",
              "      <td>Z</td>\n",
              "      <td>Concrete</td>\n",
              "    </tr>\n",
              "    <tr>\n",
              "      <th>33</th>\n",
              "      <td>36</td>\n",
              "      <td>Z</td>\n",
              "      <td>Gravel</td>\n",
              "    </tr>\n",
              "    <tr>\n",
              "      <th>34</th>\n",
              "      <td>35</td>\n",
              "      <td>Z</td>\n",
              "      <td>Gravel</td>\n",
              "    </tr>\n",
              "    <tr>\n",
              "      <th>35</th>\n",
              "      <td>35</td>\n",
              "      <td>Z</td>\n",
              "      <td>Gravel</td>\n",
              "    </tr>\n",
              "    <tr>\n",
              "      <th>36</th>\n",
              "      <td>33</td>\n",
              "      <td>Z</td>\n",
              "      <td>Gravel</td>\n",
              "    </tr>\n",
              "  </tbody>\n",
              "</table>\n",
              "</div>"
            ],
            "text/plain": [
              "    miles manufacture   surface\n",
              "1      36           X   Asphalt\n",
              "2      39           X   Asphalt\n",
              "3      39           X   Asphalt\n",
              "4      38           X   Asphalt\n",
              "5      38           X  Concrete\n",
              "6      40           X  Concrete\n",
              "7      41           X  Concrete\n",
              "8      40           X  Concrete\n",
              "9      34           X    Gravel\n",
              "10     32           X    Gravel\n",
              "11     34           X    Gravel\n",
              "12     35           X    Gravel\n",
              "13     42           Y   Asphalt\n",
              "14     40           Y   Asphalt\n",
              "15     39           Y   Asphalt\n",
              "16     42           Y   Asphalt\n",
              "17     42           Y  Concrete\n",
              "18     45           Y  Concrete\n",
              "19     48           Y  Concrete\n",
              "20     47           Y  Concrete\n",
              "21     34           Y    Gravel\n",
              "22     34           Y    Gravel\n",
              "23     30           Y    Gravel\n",
              "24     31           Y    Gravel\n",
              "25     32           Z   Asphalt\n",
              "26     36           Z   Asphalt\n",
              "27     35           Z   Asphalt\n",
              "28     34           Z   Asphalt\n",
              "29     37           Z  Concrete\n",
              "30     33           Z  Concrete\n",
              "31     33           Z  Concrete\n",
              "32     34           Z  Concrete\n",
              "33     36           Z    Gravel\n",
              "34     35           Z    Gravel\n",
              "35     35           Z    Gravel\n",
              "36     33           Z    Gravel"
            ]
          },
          "metadata": {
            "tags": []
          },
          "execution_count": 23
        }
      ]
    },
    {
      "cell_type": "markdown",
      "metadata": {
        "id": "jO1MhY_jAY87",
        "colab_type": "text"
      },
      "source": [
        "### Getting Effect Sizes"
      ]
    },
    {
      "cell_type": "code",
      "metadata": {
        "id": "UNweOYC7CRg2",
        "colab_type": "code",
        "outputId": "72fdf2a9-620b-4bc8-e185-b4bd2beab707",
        "colab": {
          "base_uri": "https://localhost:8080/",
          "height": 104
        }
      },
      "source": [
        "\n",
        "# ANOVA\n",
        "formula = 'miles~C(surface)+C(manufacture)+C(surface):C(manufacture)'\n",
        "model = ols(formula, df).fit()\n",
        "aov_table = anova_lm(model, typ=2)\n",
        "\n",
        "print(aov_table)"
      ],
      "execution_count": 25,
      "outputs": [
        {
          "output_type": "stream",
          "text": [
            "                               sum_sq    df          F        PR(>F)\n",
            "C(surface)                 241.722222   2.0  40.663551  7.152528e-09\n",
            "C(manufacture)             155.388889   2.0  26.140187  4.838091e-07\n",
            "C(surface):C(manufacture)  195.611111   4.0  16.453271  6.093609e-07\n",
            "Residual                    80.250000  27.0        NaN           NaN\n"
          ],
          "name": "stdout"
        }
      ]
    },
    {
      "cell_type": "code",
      "metadata": {
        "id": "OsATgfQ1AY8-",
        "colab_type": "code",
        "outputId": "95aef317-44e3-4f2d-8078-d3a8b19e4372",
        "colab": {
          "base_uri": "https://localhost:8080/",
          "height": 104
        }
      },
      "source": [
        "def eta_squared(aov):\n",
        "    aov['eta_sq'] = 'NaN'\n",
        "    aov['eta_sq'] = aov[:-1]['sum_sq']/sum(aov['sum_sq'])\n",
        "    return aov\n",
        "\n",
        "def omega_squared(aov):\n",
        "    mse = aov['sum_sq'][-1]/aov['df'][-1]\n",
        "    aov['omega_sq'] = 'NaN'\n",
        "    aov['omega_sq'] = (aov[:-1]['sum_sq']-(aov[:-1]['df']*mse))/(sum(aov['sum_sq'])+mse)\n",
        "    return aov\n",
        "\n",
        "\n",
        "eta_squared(aov_table)\n",
        "omega_squared(aov_table)\n",
        "\n",
        "print(aov_table.round(4))"
      ],
      "execution_count": 26,
      "outputs": [
        {
          "output_type": "stream",
          "text": [
            "                             sum_sq    df        F  PR(>F)  eta_sq  omega_sq\n",
            "C(surface)                 241.7222   2.0  40.6636     0.0  0.3592    0.3488\n",
            "C(manufacture)             155.3889   2.0  26.1402     0.0  0.2309    0.2211\n",
            "C(surface):C(manufacture)  195.6111   4.0  16.4533     0.0  0.2907    0.2718\n",
            "Residual                    80.2500  27.0      NaN     NaN     NaN       NaN\n"
          ],
          "name": "stdout"
        }
      ]
    },
    {
      "cell_type": "markdown",
      "metadata": {
        "id": "QOHvSplCAY9H",
        "colab_type": "text"
      },
      "source": [
        "### Plotting the Residuals:"
      ]
    },
    {
      "cell_type": "code",
      "metadata": {
        "id": "bO--sWWlAY9J",
        "colab_type": "code",
        "outputId": "ec2c979d-6ee5-420f-b192-82b33a5eaa59",
        "colab": {
          "base_uri": "https://localhost:8080/",
          "height": 279
        }
      },
      "source": [
        "res = model.resid \n",
        "fig = sm.qqplot(res, line='s')\n",
        "plt.show()"
      ],
      "execution_count": 27,
      "outputs": [
        {
          "output_type": "display_data",
          "data": {
            "image/png": "[encoded data removed]",
            "text/plain": [
              "<Figure size 432x288 with 1 Axes>"
            ]
          },
          "metadata": {
            "tags": []
          }
        }
      ]
    },
    {
      "cell_type": "code",
      "metadata": {
        "id": "kCAQeaB0AY9P",
        "colab_type": "code",
        "colab": {}
      },
      "source": [
        ""
      ],
      "execution_count": 0,
      "outputs": []
    }
  ]
}