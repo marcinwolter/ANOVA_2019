{
  "nbformat": 4,
  "nbformat_minor": 0,
  "metadata": {
    "kernelspec": {
      "display_name": "Python 3",
      "language": "python",
      "name": "python3"
    },
    "language_info": {
      "codemirror_mode": {
        "name": "ipython",
        "version": 3
      },
      "file_extension": ".py",
      "mimetype": "text/x-python",
      "name": "python",
      "nbconvert_exporter": "python",
      "pygments_lexer": "ipython3",
      "version": "3.7.4"
    },
    "colab": {
      "name": "One_Way_Python_ANOVA.ipynb",
      "provenance": [],
      "collapsed_sections": []
    }
  },
  "cells": [
    {
      "cell_type": "markdown",
      "metadata": {
        "id": "kNsTg0bp_zn_",
        "colab_type": "text"
      },
      "source": [
        "Plant growth: control group and two treatments"
      ]
    },
    {
      "cell_type": "code",
      "metadata": {
        "id": "RsxFXaTN_zoF",
        "colab_type": "code",
        "outputId": "c64c20f6-732b-4f8d-8aef-9c8ae9d77425",
        "colab": {
          "base_uri": "https://localhost:8080/",
          "height": 1000
        }
      },
      "source": [
        "import pandas as pd\n",
        "\n",
        "\n",
        "datafile = 'https://resources.oreilly.com/examples/9781783981960/raw/500923e04f07659d1fc54a15819f95c1be0c6771/Mastering%20Pandas_CodeFiles/Chapter%205/PlantGrowth.csv'\n",
        "df = pd.read_csv(datafile)\n",
        "\n",
        "print(df)\n",
        "\n",
        "#Create a boxplot\n",
        "df.boxplot('weight', by='group', figsize=(12, 8))\n",
        "\n",
        "ctrl = df['weight'][df.group == 'ctrl']\n",
        "\n",
        "grps = pd.unique(df.group.values)\n",
        "d_data = {grp:df['weight'][df.group == grp] for grp in grps}\n",
        "\n",
        "k = len(pd.unique(df.group))  # number of conditions\n",
        "N = len(df.values)  # conditions times participants\n",
        "n = df.groupby('group').size()[0] #Participants in each condition"
      ],
      "execution_count": 0,
      "outputs": [
        {
          "output_type": "stream",
          "text": [
            "    observation  weight group\n",
            "0             1    4.17  ctrl\n",
            "1             2    5.58  ctrl\n",
            "2             3    5.18  ctrl\n",
            "3             4    6.11  ctrl\n",
            "4             5    4.50  ctrl\n",
            "5             6    4.61  ctrl\n",
            "6             7    5.17  ctrl\n",
            "7             8    4.53  ctrl\n",
            "8             9    5.33  ctrl\n",
            "9            10    5.14  ctrl\n",
            "10            1    4.81  trt1\n",
            "11            2    4.17  trt1\n",
            "12            3    4.41  trt1\n",
            "13            4    3.59  trt1\n",
            "14            5    5.87  trt1\n",
            "15            6    3.83  trt1\n",
            "16            7    6.03  trt1\n",
            "17            8    4.89  trt1\n",
            "18            9    4.32  trt1\n",
            "19           10    4.69  trt1\n",
            "20            1    6.31  trt2\n",
            "21            2    5.12  trt2\n",
            "22            3    5.54  trt2\n",
            "23            4    5.50  trt2\n",
            "24            5    5.37  trt2\n",
            "25            6    5.29  trt2\n",
            "26            7    4.92  trt2\n",
            "27            8    6.15  trt2\n",
            "28            9    5.80  trt2\n",
            "29           10    5.26  trt2\n"
          ],
          "name": "stdout"
        },
        {
          "output_type": "display_data",
          "data": {
            "image/png": "[encoded data removed]",
            "text/plain": [
              "<Figure size 864x576 with 1 Axes>"
            ]
          },
          "metadata": {
            "tags": []
          }
        }
      ]
    },
    {
      "cell_type": "markdown",
      "metadata": {
        "id": "qA849VEK_zoO",
        "colab_type": "text"
      },
      "source": [
        "### Anova usig Scipy\n"
      ]
    },
    {
      "cell_type": "code",
      "metadata": {
        "id": "yLBAW6bk_zoQ",
        "colab_type": "code",
        "outputId": "7f8981a7-4605-4edc-e626-8afbb6dcf6f7",
        "colab": {
          "base_uri": "https://localhost:8080/",
          "height": 34
        }
      },
      "source": [
        "from scipy import stats\n",
        "\n",
        "F, p = stats.f_oneway(d_data['ctrl'], d_data['trt1'], d_data['trt2'])\n",
        "\n",
        "print(\"F = \",F, \" probability of null hypothesis = \",p)"
      ],
      "execution_count": 0,
      "outputs": [
        {
          "output_type": "stream",
          "text": [
            "F =  4.846087862380136  probability of null hypothesis =  0.0159099583256229\n"
          ],
          "name": "stdout"
        }
      ]
    },
    {
      "cell_type": "markdown",
      "metadata": {
        "id": "SLR1rILg_zoU",
        "colab_type": "text"
      },
      "source": [
        "### Degrees of Fredoom"
      ]
    },
    {
      "cell_type": "code",
      "metadata": {
        "id": "YJiXgNji_zoV",
        "colab_type": "code",
        "colab": {}
      },
      "source": [
        "### Calculate the degrees of freedom\n",
        "DFbetween = k - 1\n",
        "DFwithin = N - k\n",
        "DFtotal = N - 1"
      ],
      "execution_count": 0,
      "outputs": []
    },
    {
      "cell_type": "markdown",
      "metadata": {
        "id": "i8Vyaefy_zoZ",
        "colab_type": "text"
      },
      "source": [
        "### Sum of Squares Between, WIthin, and Total"
      ]
    },
    {
      "cell_type": "code",
      "metadata": {
        "id": "jmE5lbfd_zoa",
        "colab_type": "code",
        "colab": {}
      },
      "source": [
        "# Between\n",
        "SSbetween = (sum(df.groupby('group').sum()['weight']**2)/n) \\\n",
        "    - (df['weight'].sum()**2)/N\n",
        "\n",
        "# Within\n",
        "sum_y_squared = sum([value**2 for value in df['weight'].values])\n",
        "SSwithin = sum_y_squared - sum(df.groupby('group').sum()['weight']**2)/n\n",
        "\n",
        "# Total\n",
        "SStotal = sum_y_squared - (df['weight'].sum()**2)/N"
      ],
      "execution_count": 0,
      "outputs": []
    },
    {
      "cell_type": "markdown",
      "metadata": {
        "id": "LZOYW1Su_zoe",
        "colab_type": "text"
      },
      "source": [
        "### Means Square Errors and F-value"
      ]
    },
    {
      "cell_type": "code",
      "metadata": {
        "id": "prtD82aZ_zof",
        "colab_type": "code",
        "colab": {}
      },
      "source": [
        "MSbetween = SSbetween/DFbetween\n",
        "MSwithin = SSwithin/DFwithin\n",
        "\n",
        "F = MSbetween/MSwithin"
      ],
      "execution_count": 0,
      "outputs": []
    },
    {
      "cell_type": "code",
      "metadata": {
        "id": "8hek-CIu_zoj",
        "colab_type": "code",
        "colab": {}
      },
      "source": [
        "### Obtaining the p-value"
      ],
      "execution_count": 0,
      "outputs": []
    },
    {
      "cell_type": "code",
      "metadata": {
        "id": "2Eav2U0y_zom",
        "colab_type": "code",
        "colab": {}
      },
      "source": [
        "p = stats.f.sf(F, DFbetween, DFwithin)"
      ],
      "execution_count": 0,
      "outputs": []
    },
    {
      "cell_type": "markdown",
      "metadata": {
        "id": "V4K9C9qH_zoq",
        "colab_type": "text"
      },
      "source": [
        "### Calculate Effect sizes: Eta Squared and Omega Squared:"
      ]
    },
    {
      "cell_type": "code",
      "metadata": {
        "id": "UjqZMfgK_zor",
        "colab_type": "code",
        "outputId": "c4b06835-e144-4e39-93a9-e9382026f7dc",
        "colab": {
          "base_uri": "https://localhost:8080/",
          "height": 112
        }
      },
      "source": [
        "eta_sqrd = SSbetween/SStotal\n",
        "om_sqrd = (SSbetween - (DFbetween * MSwithin))/(SStotal + MSwithin)\n",
        "\n",
        "results = {'sum_sq':[SSbetween, SSwithin],\n",
        "           'df':[DFbetween, DFwithin],\n",
        "           'F':[F, ''],\n",
        "            'PR(>F)':[p, ''],\n",
        "          'EtaSq':[eta_sqrd, ''],\n",
        "          'OmegaSq':[om_sqrd, '']}\n",
        "\n",
        "aov_table1 = pd.DataFrame(results, \n",
        "                          index=['Group', 'Residual'])\n",
        "    \n",
        "aov_table1"
      ],
      "execution_count": 0,
      "outputs": [
        {
          "output_type": "execute_result",
          "data": {
            "text/html": [
              "<div>\n",
              "<style scoped>\n",
              "    .dataframe tbody tr th:only-of-type {\n",
              "        vertical-align: middle;\n",
              "    }\n",
              "\n",
              "    .dataframe tbody tr th {\n",
              "        vertical-align: top;\n",
              "    }\n",
              "\n",
              "    .dataframe thead th {\n",
              "        text-align: right;\n",
              "    }\n",
              "</style>\n",
              "<table border=\"1\" class=\"dataframe\">\n",
              "  <thead>\n",
              "    <tr style=\"text-align: right;\">\n",
              "      <th></th>\n",
              "      <th>sum_sq</th>\n",
              "      <th>df</th>\n",
              "      <th>F</th>\n",
              "      <th>PR(&gt;F)</th>\n",
              "      <th>EtaSq</th>\n",
              "      <th>OmegaSq</th>\n",
              "    </tr>\n",
              "  </thead>\n",
              "  <tbody>\n",
              "    <tr>\n",
              "      <th>Group</th>\n",
              "      <td>3.76634</td>\n",
              "      <td>2</td>\n",
              "      <td>4.84609</td>\n",
              "      <td>0.01591</td>\n",
              "      <td>0.264148</td>\n",
              "      <td>0.204079</td>\n",
              "    </tr>\n",
              "    <tr>\n",
              "      <th>Residual</th>\n",
              "      <td>10.49209</td>\n",
              "      <td>27</td>\n",
              "      <td></td>\n",
              "      <td></td>\n",
              "      <td></td>\n",
              "      <td></td>\n",
              "    </tr>\n",
              "  </tbody>\n",
              "</table>\n",
              "</div>"
            ],
            "text/plain": [
              "            sum_sq  df        F   PR(>F)     EtaSq   OmegaSq\n",
              "Group      3.76634   2  4.84609  0.01591  0.264148  0.204079\n",
              "Residual  10.49209  27                                      "
            ]
          },
          "metadata": {
            "tags": []
          },
          "execution_count": 8
        }
      ]
    },
    {
      "cell_type": "code",
      "metadata": {
        "id": "07SRaHKugI_W",
        "colab_type": "code",
        "colab": {}
      },
      "source": [
        "# Put into dataframe\n",
        "\n",
        "df = pd.DataFrame(df)\n",
        "\n",
        "\n",
        "#print (d_data)\n",
        "#print(\"==========================================================\")\n",
        "#print(df)\n",
        "#print(\"==========================================================\")\n",
        "# Stack the data (and rename columns):\n",
        "\n",
        "\n",
        "# Stack the data (and rename columns):\n",
        "\n",
        "###stacked_data = df.stack().reset_index()\n",
        "stacked_data = df.reset_index()\n",
        "stacked_data = stacked_data.rename(columns={'id': 'id',\n",
        "                                            'group': 'treatment',\n",
        "                                            'weight':'result'})\n",
        "# Show the first 30 rows:\n",
        "\n",
        "#print (stacked_data.head(30))"
      ],
      "execution_count": 0,
      "outputs": []
    },
    {
      "cell_type": "code",
      "metadata": {
        "id": "4uJ2VXn6gNq2",
        "colab_type": "code",
        "outputId": "546ab1c2-9cd8-4fa2-f0e3-3d4abf0a9eae",
        "colab": {
          "base_uri": "https://localhost:8080/",
          "height": 156
        }
      },
      "source": [
        "from statsmodels.stats.multicomp import (pairwise_tukeyhsd,\n",
        "                                         MultiComparison)\n",
        "\n",
        "# Set up the data for comparison (creates a specialised object)\n",
        "MultiComp = MultiComparison(stacked_data['result'],\n",
        "                            stacked_data['treatment'])\n",
        "\n",
        "# Show all pair-wise comparisons:\n",
        "\n",
        "# Print the comparisons\n",
        "\n",
        "print(MultiComp.tukeyhsd(0.20).summary())"
      ],
      "execution_count": 0,
      "outputs": [
        {
          "output_type": "stream",
          "text": [
            "Multiple Comparison of Means - Tukey HSD, FWER=0.20\n",
            "===================================================\n",
            "group1 group2 meandiff p-adj   lower  upper  reject\n",
            "---------------------------------------------------\n",
            "  ctrl   trt1   -0.371 0.3921 -0.8634 0.1214  False\n",
            "  ctrl   trt2    0.494  0.198  0.0016 0.9864   True\n",
            "  trt1   trt2    0.865  0.012  0.3726 1.3574   True\n",
            "---------------------------------------------------\n"
          ],
          "name": "stdout"
        }
      ]
    }
  ]
}