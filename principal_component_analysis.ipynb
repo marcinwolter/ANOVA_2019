{
  "nbformat": 4,
  "nbformat_minor": 0,
  "metadata": {
    "kernelspec": {
      "display_name": "Python 3",
      "language": "python",
      "name": "python3"
    },
    "language_info": {
      "codemirror_mode": {
        "name": "ipython",
        "version": 3
      },
      "file_extension": ".py",
      "mimetype": "text/x-python",
      "name": "python",
      "nbconvert_exporter": "python",
      "pygments_lexer": "ipython3",
      "version": "3.6.8"
    },
    "colab": {
      "name": "principal_component_analysis.ipynb",
      "provenance": [],
      "collapsed_sections": []
    }
  },
  "cells": [
    {
      "cell_type": "code",
      "metadata": {
        "colab_type": "code",
        "id": "C0GetGUDT14v",
        "colab": {}
      },
      "source": [
        "#import chart_studio.plotly as py\n",
        "#from plotly.offline import plot as py\n",
        "import plotly.offline as py\n",
        "\n"
      ],
      "execution_count": 0,
      "outputs": []
    },
    {
      "cell_type": "markdown",
      "metadata": {
        "id": "sj0f98byOQos",
        "colab_type": "text"
      },
      "source": [
        "About the Author: Some of Sebastian Raschka's greatest passions are \"Data Science\" and machine learning. Sebastian enjoys everything that involves working with data: The discovery of interesting patterns and coming up with insightful conclusions using techniques from the fields of data mining and machine learning for predictive modeling.\n",
        "\n",
        "Currently, Sebastian is sharpening his analytical skills as a PhD candidate at Michigan State University where he is working on a highly efficient virtual screening software for computer-aided drug-discovery and a novel approach to protein ligand docking (among other projects). Basically, it is about the screening of a database of millions of 3-dimensional structures of chemical compounds in order to identifiy the ones that could potentially bind to specific protein receptors in order to trigger a biological response.\n",
        "\n",
        "You can follow Sebastian on Twitter ([@rasbt](https://twitter.com/rasbt)) or read more about his favorite projects on [his blog](http://sebastianraschka.com/articles.html)."
      ]
    },
    {
      "cell_type": "markdown",
      "metadata": {
        "id": "jgIcsEBTOQoz",
        "colab_type": "text"
      },
      "source": [
        "#### Principal Component Analysis in 3 Simple Steps\n",
        "Principal Component Analysis (PCA) is a simple yet popular and useful linear transformation technique that is used in numerous applications, such as stock market predictions, the  analysis of gene expression data, and many more. In this tutorial, we will see that PCA is not just a \"black box\", and we are going to unravel its internals in 3 basic steps."
      ]
    },
    {
      "cell_type": "markdown",
      "metadata": {
        "id": "LTAXPDqiOQo3",
        "colab_type": "text"
      },
      "source": [
        "#### Introduction\n",
        "The sheer size of data in the modern age is not only a challenge for computer hardware but also a main bottleneck for the performance of many machine learning algorithms. The main goal of a PCA analysis is to identify patterns in data; PCA aims to detect the correlation between variables. If a strong correlation between variables exists, the attempt to reduce the dimensionality only makes sense. In a nutshell, this is what PCA is all about: Finding the directions of maximum variance in high-dimensional data and project it onto a smaller dimensional subspace while retaining most of the information."
      ]
    },
    {
      "cell_type": "markdown",
      "metadata": {
        "id": "BIivdfLmOQo-",
        "colab_type": "text"
      },
      "source": [
        "### PCA Vs. LDA"
      ]
    },
    {
      "cell_type": "markdown",
      "metadata": {
        "id": "gcXeEAzVOQpC",
        "colab_type": "text"
      },
      "source": [
        "Both Linear Discriminant Analysis (LDA) and PCA are linear transformation methods. PCA yields the directions (principal components) that maximize the variance of the data, whereas LDA also aims to find the directions that maximize the separation (or discrimination) between different classes, which can be useful in pattern classification problem (PCA \"ignores\" class labels).   \n",
        "***In other words, PCA projects the entire dataset onto a different feature (sub)space, and LDA tries to determine a suitable feature (sub)space in order to distinguish between patterns that belong to different classes.***  "
      ]
    },
    {
      "cell_type": "markdown",
      "metadata": {
        "id": "ZawXL9hOOQpH",
        "colab_type": "text"
      },
      "source": [
        "### PCA and Dimensionality Reduction"
      ]
    },
    {
      "cell_type": "markdown",
      "metadata": {
        "id": "EWRBioXtOQpL",
        "colab_type": "text"
      },
      "source": [
        "Often, the desired goal is to reduce the dimensions of a $d$-dimensional dataset by projecting it onto a $(k)$-dimensional subspace (where $k\\;<\\;d$) in order to increase the computational efficiency while retaining most of the information. An important question is \"what is the size of $k$ that represents the data 'well'?\"\n",
        "\n",
        "Later, we will compute eigenvectors (the principal components) of a dataset and collect them in a projection matrix. Each of those eigenvectors is associated with an eigenvalue which can be interpreted as the \"length\" or \"magnitude\" of the corresponding eigenvector. If some eigenvalues have a significantly larger magnitude than others that the reduction of the dataset via PCA onto a smaller dimensional subspace by dropping the \"less informative\" eigenpairs is reasonable.\n"
      ]
    },
    {
      "cell_type": "markdown",
      "metadata": {
        "id": "iRUgypBROQpQ",
        "colab_type": "text"
      },
      "source": [
        "### A Summary of the PCA Approach"
      ]
    },
    {
      "cell_type": "markdown",
      "metadata": {
        "id": "CVDyMocaOQpS",
        "colab_type": "text"
      },
      "source": [
        "-  Standardize the data.\n",
        "-  Obtain the Eigenvectors and Eigenvalues from the covariance matrix or correlation matrix, or perform Singular Vector Decomposition.\n",
        "-  Sort eigenvalues in descending order and choose the $k$ eigenvectors that correspond to the $k$ largest eigenvalues where $k$ is the number of dimensions of the new feature subspace ($k \\le d$)/.\n",
        "-  Construct the projection matrix $\\mathbf{W}$ from the selected $k$ eigenvectors.\n",
        "-  Transform the original dataset $\\mathbf{X}$ via $\\mathbf{W}$ to obtain a $k$-dimensional feature subspace $\\mathbf{Y}$."
      ]
    },
    {
      "cell_type": "markdown",
      "metadata": {
        "id": "kGfONrqSOQpU",
        "colab_type": "text"
      },
      "source": [
        "## Preparing the Iris Dataset"
      ]
    },
    {
      "cell_type": "markdown",
      "metadata": {
        "id": "_RafWo0QOQpX",
        "colab_type": "text"
      },
      "source": [
        "For the following tutorial, we will be working with the famous \"Iris\" dataset that has been deposited on the UCI machine learning repository   \n",
        "([https://archive.ics.uci.edu/ml/datasets/Iris](https://archive.ics.uci.edu/ml/datasets/Iris)).\n",
        "\n",
        "The iris dataset contains measurements for 150 iris flowers from three different species.\n",
        "\n",
        "The three classes in the Iris dataset are:\n",
        "\n",
        "1. Iris-setosa (n=50)\n",
        "2. Iris-versicolor (n=50)\n",
        "3. Iris-virginica (n=50)\n",
        "\n",
        "And the four features of in Iris dataset are:\n",
        "\n",
        "1. sepal length in cm\n",
        "2. sepal width in cm\n",
        "3. petal length in cm\n",
        "4. petal width in cm"
      ]
    },
    {
      "cell_type": "markdown",
      "metadata": {
        "id": "DXU7gfM2OQpc",
        "colab_type": "text"
      },
      "source": [
        "### Loading the Dataset"
      ]
    },
    {
      "cell_type": "markdown",
      "metadata": {
        "id": "2aGBPDR_OQpd",
        "colab_type": "text"
      },
      "source": [
        "In order to load the Iris data directly from the UCI repository, we are going to use the superb [pandas](http://pandas.pydata.org) library. If you haven't used pandas yet, I want encourage you to check out the [pandas tutorials](http://pandas.pydata.org/pandas-docs/stable/tutorials.html). If I had to name one Python library that makes working with data a wonderfully simple task, this would definitely be pandas!"
      ]
    },
    {
      "cell_type": "code",
      "metadata": {
        "id": "3Dt-0e7wOQpg",
        "colab_type": "code",
        "colab": {
          "base_uri": "https://localhost:8080/",
          "height": 206
        },
        "outputId": "3e126969-78f0-495f-c466-6a0ccd50532f"
      },
      "source": [
        "import pandas as pd\n",
        "\n",
        "df = pd.read_csv(\n",
        "    filepath_or_buffer='https://archive.ics.uci.edu/ml/machine-learning-databases/iris/iris.data', \n",
        "    header=None, \n",
        "    sep=',')\n",
        "\n",
        "df.columns=['sepal_len', 'sepal_wid', 'petal_len', 'petal_wid', 'class']\n",
        "df.dropna(how=\"all\", inplace=True) # drops the empty line at file-end\n",
        "\n",
        "df.tail()"
      ],
      "execution_count": 2,
      "outputs": [
        {
          "output_type": "execute_result",
          "data": {
            "text/html": [
              "<div>\n",
              "<style scoped>\n",
              "    .dataframe tbody tr th:only-of-type {\n",
              "        vertical-align: middle;\n",
              "    }\n",
              "\n",
              "    .dataframe tbody tr th {\n",
              "        vertical-align: top;\n",
              "    }\n",
              "\n",
              "    .dataframe thead th {\n",
              "        text-align: right;\n",
              "    }\n",
              "</style>\n",
              "<table border=\"1\" class=\"dataframe\">\n",
              "  <thead>\n",
              "    <tr style=\"text-align: right;\">\n",
              "      <th></th>\n",
              "      <th>sepal_len</th>\n",
              "      <th>sepal_wid</th>\n",
              "      <th>petal_len</th>\n",
              "      <th>petal_wid</th>\n",
              "      <th>class</th>\n",
              "    </tr>\n",
              "  </thead>\n",
              "  <tbody>\n",
              "    <tr>\n",
              "      <th>145</th>\n",
              "      <td>6.7</td>\n",
              "      <td>3.0</td>\n",
              "      <td>5.2</td>\n",
              "      <td>2.3</td>\n",
              "      <td>Iris-virginica</td>\n",
              "    </tr>\n",
              "    <tr>\n",
              "      <th>146</th>\n",
              "      <td>6.3</td>\n",
              "      <td>2.5</td>\n",
              "      <td>5.0</td>\n",
              "      <td>1.9</td>\n",
              "      <td>Iris-virginica</td>\n",
              "    </tr>\n",
              "    <tr>\n",
              "      <th>147</th>\n",
              "      <td>6.5</td>\n",
              "      <td>3.0</td>\n",
              "      <td>5.2</td>\n",
              "      <td>2.0</td>\n",
              "      <td>Iris-virginica</td>\n",
              "    </tr>\n",
              "    <tr>\n",
              "      <th>148</th>\n",
              "      <td>6.2</td>\n",
              "      <td>3.4</td>\n",
              "      <td>5.4</td>\n",
              "      <td>2.3</td>\n",
              "      <td>Iris-virginica</td>\n",
              "    </tr>\n",
              "    <tr>\n",
              "      <th>149</th>\n",
              "      <td>5.9</td>\n",
              "      <td>3.0</td>\n",
              "      <td>5.1</td>\n",
              "      <td>1.8</td>\n",
              "      <td>Iris-virginica</td>\n",
              "    </tr>\n",
              "  </tbody>\n",
              "</table>\n",
              "</div>"
            ],
            "text/plain": [
              "     sepal_len  sepal_wid  petal_len  petal_wid           class\n",
              "145        6.7        3.0        5.2        2.3  Iris-virginica\n",
              "146        6.3        2.5        5.0        1.9  Iris-virginica\n",
              "147        6.5        3.0        5.2        2.0  Iris-virginica\n",
              "148        6.2        3.4        5.4        2.3  Iris-virginica\n",
              "149        5.9        3.0        5.1        1.8  Iris-virginica"
            ]
          },
          "metadata": {
            "tags": []
          },
          "execution_count": 2
        }
      ]
    },
    {
      "cell_type": "code",
      "metadata": {
        "id": "ARKBPvDFOQpt",
        "colab_type": "code",
        "colab": {}
      },
      "source": [
        "# split data table into data X and class labels y\n",
        "\n",
        "X = df.iloc[:,0:4].values\n",
        "y = df.iloc[:,4].values"
      ],
      "execution_count": 0,
      "outputs": []
    },
    {
      "cell_type": "markdown",
      "metadata": {
        "id": "Ppjy3V37OQpz",
        "colab_type": "text"
      },
      "source": [
        "Our iris dataset is now stored in form of a  $150 \\times 4$ matrix where the columns are the different features, and every row represents a separate flower sample.\n",
        "Each sample row $\\mathbf{x}$ can be pictured as a 4-dimensional vector   \n",
        "\n",
        "\n",
        "$\\mathbf{x^T} = \\begin{pmatrix} x_1 \\\\ x_2 \\\\ x_3 \\\\ x_4 \\end{pmatrix} \n",
        "= \\begin{pmatrix} \\text{sepal length} \\\\ \\text{sepal width} \\\\\\text{petal length} \\\\ \\text{petal width} \\end{pmatrix}$"
      ]
    },
    {
      "cell_type": "markdown",
      "metadata": {
        "colab_type": "text",
        "id": "9nav-uZkT0-K"
      },
      "source": [
        "### Exploratory Visualization\n",
        "To get a feeling for how the 3 different flower classes are distributes along the 4 different features, let us visualize them via histograms."
      ]
    },
    {
      "cell_type": "code",
      "metadata": {
        "id": "RD0skWi6ZC53",
        "colab_type": "code",
        "colab": {
          "base_uri": "https://localhost:8080/",
          "height": 542
        },
        "outputId": "66d3c7cd-65ed-4e3f-9f2e-3f1a4d1cada0"
      },
      "source": [
        "# plotting histograms\n",
        "data = []\n",
        "\n",
        "legend = {0:False, 1:False, 2:False, 3:True}\n",
        "\n",
        "colors = {'Iris-setosa': '#0D76BF', \n",
        "          'Iris-versicolor': '#00cc96', \n",
        "          'Iris-virginica': '#EF553B'}\n",
        "\n",
        "for col in range(4):\n",
        "    for key in colors:\n",
        "        trace = dict(\n",
        "            type='histogram',\n",
        "            x=list(X[y==key, col]),\n",
        "            opacity=0.75,\n",
        "            xaxis='x%s' %(col+1),\n",
        "            marker=dict(color=colors[key]),\n",
        "            name=key,\n",
        "            showlegend=legend[col]\n",
        "        )\n",
        "        data.append(trace)\n",
        "\n",
        "layout = dict(\n",
        "    barmode='overlay',\n",
        "    xaxis=dict(domain=[0, 0.25], title='sepal length (cm)'),\n",
        "    xaxis2=dict(domain=[0.3, 0.5], title='sepal width (cm)'),\n",
        "    xaxis3=dict(domain=[0.55, 0.75], title='petal length (cm)'),\n",
        "    xaxis4=dict(domain=[0.8, 1], title='petal width (cm)'),\n",
        "    yaxis=dict(title='count'),\n",
        "    title='Distribution of the different Iris flower features'\n",
        ")\n",
        "\n",
        "fig = dict(data=data, layout=layout)\n",
        "py.iplot(fig, filename='exploratory-vis-histogram')"
      ],
      "execution_count": 4,
      "outputs": [
        {
          "output_type": "display_data",
          "data": {
            "text/html": [
              "<html>\n",
              "<head><meta charset=\"utf-8\" /></head>\n",
              "<body>\n",
              "    <div>\n",
              "            <script src=\"https://cdnjs.cloudflare.com/ajax/libs/mathjax/2.7.5/MathJax.js?config=TeX-AMS-MML_SVG\"></script><script type=\"text/javascript\">if (window.MathJax) {MathJax.Hub.Config({SVG: {font: \"STIX-Web\"}});}</script>\n",
              "                <script type=\"text/javascript\">window.PlotlyConfig = {MathJaxConfig: 'local'};</script>\n",
              "        <script src=\"https://cdn.plot.ly/plotly-latest.min.js\"></script>    \n",
              "            <div id=\"2e849446-36e5-4bbf-b568-4c86f73eb421\" class=\"plotly-graph-div\" style=\"height:525px; width:100%;\"></div>\n",
              "            <script type=\"text/javascript\">\n",
              "                \n",
              "                    window.PLOTLYENV=window.PLOTLYENV || {};\n",
              "                    \n",
              "                if (document.getElementById(\"2e849446-36e5-4bbf-b568-4c86f73eb421\")) {\n",
              "                    Plotly.newPlot(\n",
              "                        '2e849446-36e5-4bbf-b568-4c86f73eb421',\n",
              "                        [{\"marker\": {\"color\": \"#0D76BF\"}, \"name\": \"Iris-setosa\", \"opacity\": 0.75, \"showlegend\": false, \"type\": \"histogram\", \"x\": [5.1, 4.9, 4.7, 4.6, 5.0, 5.4, 4.6, 5.0, 4.4, 4.9, 5.4, 4.8, 4.8, 4.3, 5.8, 5.7, 5.4, 5.1, 5.7, 5.1, 5.4, 5.1, 4.6, 5.1, 4.8, 5.0, 5.0, 5.2, 5.2, 4.7, 4.8, 5.4, 5.2, 5.5, 4.9, 5.0, 5.5, 4.9, 4.4, 5.1, 5.0, 4.5, 4.4, 5.0, 5.1, 4.8, 5.1, 4.6, 5.3, 5.0], \"xaxis\": \"x\"}, {\"marker\": {\"color\": \"#00cc96\"}, \"name\": \"Iris-versicolor\", \"opacity\": 0.75, \"showlegend\": false, \"type\": \"histogram\", \"x\": [7.0, 6.4, 6.9, 5.5, 6.5, 5.7, 6.3, 4.9, 6.6, 5.2, 5.0, 5.9, 6.0, 6.1, 5.6, 6.7, 5.6, 5.8, 6.2, 5.6, 5.9, 6.1, 6.3, 6.1, 6.4, 6.6, 6.8, 6.7, 6.0, 5.7, 5.5, 5.5, 5.8, 6.0, 5.4, 6.0, 6.7, 6.3, 5.6, 5.5, 5.5, 6.1, 5.8, 5.0, 5.6, 5.7, 5.7, 6.2, 5.1, 5.7], \"xaxis\": \"x\"}, {\"marker\": {\"color\": \"#EF553B\"}, \"name\": \"Iris-virginica\", \"opacity\": 0.75, \"showlegend\": false, \"type\": \"histogram\", \"x\": [6.3, 5.8, 7.1, 6.3, 6.5, 7.6, 4.9, 7.3, 6.7, 7.2, 6.5, 6.4, 6.8, 5.7, 5.8, 6.4, 6.5, 7.7, 7.7, 6.0, 6.9, 5.6, 7.7, 6.3, 6.7, 7.2, 6.2, 6.1, 6.4, 7.2, 7.4, 7.9, 6.4, 6.3, 6.1, 7.7, 6.3, 6.4, 6.0, 6.9, 6.7, 6.9, 5.8, 6.8, 6.7, 6.7, 6.3, 6.5, 6.2, 5.9], \"xaxis\": \"x\"}, {\"marker\": {\"color\": \"#0D76BF\"}, \"name\": \"Iris-setosa\", \"opacity\": 0.75, \"showlegend\": false, \"type\": \"histogram\", \"x\": [3.5, 3.0, 3.2, 3.1, 3.6, 3.9, 3.4, 3.4, 2.9, 3.1, 3.7, 3.4, 3.0, 3.0, 4.0, 4.4, 3.9, 3.5, 3.8, 3.8, 3.4, 3.7, 3.6, 3.3, 3.4, 3.0, 3.4, 3.5, 3.4, 3.2, 3.1, 3.4, 4.1, 4.2, 3.1, 3.2, 3.5, 3.1, 3.0, 3.4, 3.5, 2.3, 3.2, 3.5, 3.8, 3.0, 3.8, 3.2, 3.7, 3.3], \"xaxis\": \"x2\"}, {\"marker\": {\"color\": \"#00cc96\"}, \"name\": \"Iris-versicolor\", \"opacity\": 0.75, \"showlegend\": false, \"type\": \"histogram\", \"x\": [3.2, 3.2, 3.1, 2.3, 2.8, 2.8, 3.3, 2.4, 2.9, 2.7, 2.0, 3.0, 2.2, 2.9, 2.9, 3.1, 3.0, 2.7, 2.2, 2.5, 3.2, 2.8, 2.5, 2.8, 2.9, 3.0, 2.8, 3.0, 2.9, 2.6, 2.4, 2.4, 2.7, 2.7, 3.0, 3.4, 3.1, 2.3, 3.0, 2.5, 2.6, 3.0, 2.6, 2.3, 2.7, 3.0, 2.9, 2.9, 2.5, 2.8], \"xaxis\": \"x2\"}, {\"marker\": {\"color\": \"#EF553B\"}, \"name\": \"Iris-virginica\", \"opacity\": 0.75, \"showlegend\": false, \"type\": \"histogram\", \"x\": [3.3, 2.7, 3.0, 2.9, 3.0, 3.0, 2.5, 2.9, 2.5, 3.6, 3.2, 2.7, 3.0, 2.5, 2.8, 3.2, 3.0, 3.8, 2.6, 2.2, 3.2, 2.8, 2.8, 2.7, 3.3, 3.2, 2.8, 3.0, 2.8, 3.0, 2.8, 3.8, 2.8, 2.8, 2.6, 3.0, 3.4, 3.1, 3.0, 3.1, 3.1, 3.1, 2.7, 3.2, 3.3, 3.0, 2.5, 3.0, 3.4, 3.0], \"xaxis\": \"x2\"}, {\"marker\": {\"color\": \"#0D76BF\"}, \"name\": \"Iris-setosa\", \"opacity\": 0.75, \"showlegend\": false, \"type\": \"histogram\", \"x\": [1.4, 1.4, 1.3, 1.5, 1.4, 1.7, 1.4, 1.5, 1.4, 1.5, 1.5, 1.6, 1.4, 1.1, 1.2, 1.5, 1.3, 1.4, 1.7, 1.5, 1.7, 1.5, 1.0, 1.7, 1.9, 1.6, 1.6, 1.5, 1.4, 1.6, 1.6, 1.5, 1.5, 1.4, 1.5, 1.2, 1.3, 1.5, 1.3, 1.5, 1.3, 1.3, 1.3, 1.6, 1.9, 1.4, 1.6, 1.4, 1.5, 1.4], \"xaxis\": \"x3\"}, {\"marker\": {\"color\": \"#00cc96\"}, \"name\": \"Iris-versicolor\", \"opacity\": 0.75, \"showlegend\": false, \"type\": \"histogram\", \"x\": [4.7, 4.5, 4.9, 4.0, 4.6, 4.5, 4.7, 3.3, 4.6, 3.9, 3.5, 4.2, 4.0, 4.7, 3.6, 4.4, 4.5, 4.1, 4.5, 3.9, 4.8, 4.0, 4.9, 4.7, 4.3, 4.4, 4.8, 5.0, 4.5, 3.5, 3.8, 3.7, 3.9, 5.1, 4.5, 4.5, 4.7, 4.4, 4.1, 4.0, 4.4, 4.6, 4.0, 3.3, 4.2, 4.2, 4.2, 4.3, 3.0, 4.1], \"xaxis\": \"x3\"}, {\"marker\": {\"color\": \"#EF553B\"}, \"name\": \"Iris-virginica\", \"opacity\": 0.75, \"showlegend\": false, \"type\": \"histogram\", \"x\": [6.0, 5.1, 5.9, 5.6, 5.8, 6.6, 4.5, 6.3, 5.8, 6.1, 5.1, 5.3, 5.5, 5.0, 5.1, 5.3, 5.5, 6.7, 6.9, 5.0, 5.7, 4.9, 6.7, 4.9, 5.7, 6.0, 4.8, 4.9, 5.6, 5.8, 6.1, 6.4, 5.6, 5.1, 5.6, 6.1, 5.6, 5.5, 4.8, 5.4, 5.6, 5.1, 5.1, 5.9, 5.7, 5.2, 5.0, 5.2, 5.4, 5.1], \"xaxis\": \"x3\"}, {\"marker\": {\"color\": \"#0D76BF\"}, \"name\": \"Iris-setosa\", \"opacity\": 0.75, \"showlegend\": true, \"type\": \"histogram\", \"x\": [0.2, 0.2, 0.2, 0.2, 0.2, 0.4, 0.3, 0.2, 0.2, 0.1, 0.2, 0.2, 0.1, 0.1, 0.2, 0.4, 0.4, 0.3, 0.3, 0.3, 0.2, 0.4, 0.2, 0.5, 0.2, 0.2, 0.4, 0.2, 0.2, 0.2, 0.2, 0.4, 0.1, 0.2, 0.1, 0.2, 0.2, 0.1, 0.2, 0.2, 0.3, 0.3, 0.2, 0.6, 0.4, 0.3, 0.2, 0.2, 0.2, 0.2], \"xaxis\": \"x4\"}, {\"marker\": {\"color\": \"#00cc96\"}, \"name\": \"Iris-versicolor\", \"opacity\": 0.75, \"showlegend\": true, \"type\": \"histogram\", \"x\": [1.4, 1.5, 1.5, 1.3, 1.5, 1.3, 1.6, 1.0, 1.3, 1.4, 1.0, 1.5, 1.0, 1.4, 1.3, 1.4, 1.5, 1.0, 1.5, 1.1, 1.8, 1.3, 1.5, 1.2, 1.3, 1.4, 1.4, 1.7, 1.5, 1.0, 1.1, 1.0, 1.2, 1.6, 1.5, 1.6, 1.5, 1.3, 1.3, 1.3, 1.2, 1.4, 1.2, 1.0, 1.3, 1.2, 1.3, 1.3, 1.1, 1.3], \"xaxis\": \"x4\"}, {\"marker\": {\"color\": \"#EF553B\"}, \"name\": \"Iris-virginica\", \"opacity\": 0.75, \"showlegend\": true, \"type\": \"histogram\", \"x\": [2.5, 1.9, 2.1, 1.8, 2.2, 2.1, 1.7, 1.8, 1.8, 2.5, 2.0, 1.9, 2.1, 2.0, 2.4, 2.3, 1.8, 2.2, 2.3, 1.5, 2.3, 2.0, 2.0, 1.8, 2.1, 1.8, 1.8, 1.8, 2.1, 1.6, 1.9, 2.0, 2.2, 1.5, 1.4, 2.3, 2.4, 1.8, 1.8, 2.1, 2.4, 2.3, 1.9, 2.3, 2.5, 2.3, 1.9, 2.0, 2.3, 1.8], \"xaxis\": \"x4\"}],\n",
              "                        {\"barmode\": \"overlay\", \"template\": {\"data\": {\"bar\": [{\"error_x\": {\"color\": \"#2a3f5f\"}, \"error_y\": {\"color\": \"#2a3f5f\"}, \"marker\": {\"line\": {\"color\": \"#E5ECF6\", \"width\": 0.5}}, \"type\": \"bar\"}], \"barpolar\": [{\"marker\": {\"line\": {\"color\": \"#E5ECF6\", \"width\": 0.5}}, \"type\": \"barpolar\"}], \"carpet\": [{\"aaxis\": {\"endlinecolor\": \"#2a3f5f\", \"gridcolor\": \"white\", \"linecolor\": \"white\", \"minorgridcolor\": \"white\", \"startlinecolor\": \"#2a3f5f\"}, \"baxis\": {\"endlinecolor\": \"#2a3f5f\", \"gridcolor\": \"white\", \"linecolor\": \"white\", \"minorgridcolor\": \"white\", \"startlinecolor\": \"#2a3f5f\"}, \"type\": \"carpet\"}], \"choropleth\": [{\"colorbar\": {\"outlinewidth\": 0, \"ticks\": \"\"}, \"type\": \"choropleth\"}], \"contour\": [{\"colorbar\": {\"outlinewidth\": 0, \"ticks\": \"\"}, \"colorscale\": [[0.0, \"#0d0887\"], [0.1111111111111111, \"#46039f\"], [0.2222222222222222, \"#7201a8\"], [0.3333333333333333, \"#9c179e\"], [0.4444444444444444, \"#bd3786\"], [0.5555555555555556, \"#d8576b\"], [0.6666666666666666, \"#ed7953\"], [0.7777777777777778, \"#fb9f3a\"], [0.8888888888888888, \"#fdca26\"], [1.0, \"#f0f921\"]], \"type\": \"contour\"}], \"contourcarpet\": [{\"colorbar\": {\"outlinewidth\": 0, \"ticks\": \"\"}, \"type\": \"contourcarpet\"}], \"heatmap\": [{\"colorbar\": {\"outlinewidth\": 0, \"ticks\": \"\"}, \"colorscale\": [[0.0, \"#0d0887\"], [0.1111111111111111, \"#46039f\"], [0.2222222222222222, \"#7201a8\"], [0.3333333333333333, \"#9c179e\"], [0.4444444444444444, \"#bd3786\"], [0.5555555555555556, \"#d8576b\"], [0.6666666666666666, \"#ed7953\"], [0.7777777777777778, \"#fb9f3a\"], [0.8888888888888888, \"#fdca26\"], [1.0, \"#f0f921\"]], \"type\": \"heatmap\"}], \"heatmapgl\": [{\"colorbar\": {\"outlinewidth\": 0, \"ticks\": \"\"}, \"colorscale\": [[0.0, \"#0d0887\"], [0.1111111111111111, \"#46039f\"], [0.2222222222222222, \"#7201a8\"], [0.3333333333333333, \"#9c179e\"], [0.4444444444444444, \"#bd3786\"], [0.5555555555555556, \"#d8576b\"], [0.6666666666666666, \"#ed7953\"], [0.7777777777777778, \"#fb9f3a\"], [0.8888888888888888, \"#fdca26\"], [1.0, \"#f0f921\"]], \"type\": \"heatmapgl\"}], \"histogram\": [{\"marker\": {\"colorbar\": {\"outlinewidth\": 0, \"ticks\": \"\"}}, \"type\": \"histogram\"}], \"histogram2d\": [{\"colorbar\": {\"outlinewidth\": 0, \"ticks\": \"\"}, \"colorscale\": [[0.0, \"#0d0887\"], [0.1111111111111111, \"#46039f\"], [0.2222222222222222, \"#7201a8\"], [0.3333333333333333, \"#9c179e\"], [0.4444444444444444, \"#bd3786\"], [0.5555555555555556, \"#d8576b\"], [0.6666666666666666, \"#ed7953\"], [0.7777777777777778, \"#fb9f3a\"], [0.8888888888888888, \"#fdca26\"], [1.0, \"#f0f921\"]], \"type\": \"histogram2d\"}], \"histogram2dcontour\": [{\"colorbar\": {\"outlinewidth\": 0, \"ticks\": \"\"}, \"colorscale\": [[0.0, \"#0d0887\"], [0.1111111111111111, \"#46039f\"], [0.2222222222222222, \"#7201a8\"], [0.3333333333333333, \"#9c179e\"], [0.4444444444444444, \"#bd3786\"], [0.5555555555555556, \"#d8576b\"], [0.6666666666666666, \"#ed7953\"], [0.7777777777777778, \"#fb9f3a\"], [0.8888888888888888, \"#fdca26\"], [1.0, \"#f0f921\"]], \"type\": \"histogram2dcontour\"}], \"mesh3d\": [{\"colorbar\": {\"outlinewidth\": 0, \"ticks\": \"\"}, \"type\": \"mesh3d\"}], \"parcoords\": [{\"line\": {\"colorbar\": {\"outlinewidth\": 0, \"ticks\": \"\"}}, \"type\": \"parcoords\"}], \"scatter\": [{\"marker\": {\"colorbar\": {\"outlinewidth\": 0, \"ticks\": \"\"}}, \"type\": \"scatter\"}], \"scatter3d\": [{\"line\": {\"colorbar\": {\"outlinewidth\": 0, \"ticks\": \"\"}}, \"marker\": {\"colorbar\": {\"outlinewidth\": 0, \"ticks\": \"\"}}, \"type\": \"scatter3d\"}], \"scattercarpet\": [{\"marker\": {\"colorbar\": {\"outlinewidth\": 0, \"ticks\": \"\"}}, \"type\": \"scattercarpet\"}], \"scattergeo\": [{\"marker\": {\"colorbar\": {\"outlinewidth\": 0, \"ticks\": \"\"}}, \"type\": \"scattergeo\"}], \"scattergl\": [{\"marker\": {\"colorbar\": {\"outlinewidth\": 0, \"ticks\": \"\"}}, \"type\": \"scattergl\"}], \"scattermapbox\": [{\"marker\": {\"colorbar\": {\"outlinewidth\": 0, \"ticks\": \"\"}}, \"type\": \"scattermapbox\"}], \"scatterpolar\": [{\"marker\": {\"colorbar\": {\"outlinewidth\": 0, \"ticks\": \"\"}}, \"type\": \"scatterpolar\"}], \"scatterpolargl\": [{\"marker\": {\"colorbar\": {\"outlinewidth\": 0, \"ticks\": \"\"}}, \"type\": \"scatterpolargl\"}], \"scatterternary\": [{\"marker\": {\"colorbar\": {\"outlinewidth\": 0, \"ticks\": \"\"}}, \"type\": \"scatterternary\"}], \"surface\": [{\"colorbar\": {\"outlinewidth\": 0, \"ticks\": \"\"}, \"colorscale\": [[0.0, \"#0d0887\"], [0.1111111111111111, \"#46039f\"], [0.2222222222222222, \"#7201a8\"], [0.3333333333333333, \"#9c179e\"], [0.4444444444444444, \"#bd3786\"], [0.5555555555555556, \"#d8576b\"], [0.6666666666666666, \"#ed7953\"], [0.7777777777777778, \"#fb9f3a\"], [0.8888888888888888, \"#fdca26\"], [1.0, \"#f0f921\"]], \"type\": \"surface\"}], \"table\": [{\"cells\": {\"fill\": {\"color\": \"#EBF0F8\"}, \"line\": {\"color\": \"white\"}}, \"header\": {\"fill\": {\"color\": \"#C8D4E3\"}, \"line\": {\"color\": \"white\"}}, \"type\": \"table\"}]}, \"layout\": {\"annotationdefaults\": {\"arrowcolor\": \"#2a3f5f\", \"arrowhead\": 0, \"arrowwidth\": 1}, \"colorscale\": {\"diverging\": [[0, \"#8e0152\"], [0.1, \"#c51b7d\"], [0.2, \"#de77ae\"], [0.3, \"#f1b6da\"], [0.4, \"#fde0ef\"], [0.5, \"#f7f7f7\"], [0.6, \"#e6f5d0\"], [0.7, \"#b8e186\"], [0.8, \"#7fbc41\"], [0.9, \"#4d9221\"], [1, \"#276419\"]], \"sequential\": [[0.0, \"#0d0887\"], [0.1111111111111111, \"#46039f\"], [0.2222222222222222, \"#7201a8\"], [0.3333333333333333, \"#9c179e\"], [0.4444444444444444, \"#bd3786\"], [0.5555555555555556, \"#d8576b\"], [0.6666666666666666, \"#ed7953\"], [0.7777777777777778, \"#fb9f3a\"], [0.8888888888888888, \"#fdca26\"], [1.0, \"#f0f921\"]], \"sequentialminus\": [[0.0, \"#0d0887\"], [0.1111111111111111, \"#46039f\"], [0.2222222222222222, \"#7201a8\"], [0.3333333333333333, \"#9c179e\"], [0.4444444444444444, \"#bd3786\"], [0.5555555555555556, \"#d8576b\"], [0.6666666666666666, \"#ed7953\"], [0.7777777777777778, \"#fb9f3a\"], [0.8888888888888888, \"#fdca26\"], [1.0, \"#f0f921\"]]}, \"colorway\": [\"#636efa\", \"#EF553B\", \"#00cc96\", \"#ab63fa\", \"#FFA15A\", \"#19d3f3\", \"#FF6692\", \"#B6E880\", \"#FF97FF\", \"#FECB52\"], \"font\": {\"color\": \"#2a3f5f\"}, \"geo\": {\"bgcolor\": \"white\", \"lakecolor\": \"white\", \"landcolor\": \"#E5ECF6\", \"showlakes\": true, \"showland\": true, \"subunitcolor\": \"white\"}, \"hoverlabel\": {\"align\": \"left\"}, \"hovermode\": \"closest\", \"mapbox\": {\"style\": \"light\"}, \"paper_bgcolor\": \"white\", \"plot_bgcolor\": \"#E5ECF6\", \"polar\": {\"angularaxis\": {\"gridcolor\": \"white\", \"linecolor\": \"white\", \"ticks\": \"\"}, \"bgcolor\": \"#E5ECF6\", \"radialaxis\": {\"gridcolor\": \"white\", \"linecolor\": \"white\", \"ticks\": \"\"}}, \"scene\": {\"xaxis\": {\"backgroundcolor\": \"#E5ECF6\", \"gridcolor\": \"white\", \"gridwidth\": 2, \"linecolor\": \"white\", \"showbackground\": true, \"ticks\": \"\", \"zerolinecolor\": \"white\"}, \"yaxis\": {\"backgroundcolor\": \"#E5ECF6\", \"gridcolor\": \"white\", \"gridwidth\": 2, \"linecolor\": \"white\", \"showbackground\": true, \"ticks\": \"\", \"zerolinecolor\": \"white\"}, \"zaxis\": {\"backgroundcolor\": \"#E5ECF6\", \"gridcolor\": \"white\", \"gridwidth\": 2, \"linecolor\": \"white\", \"showbackground\": true, \"ticks\": \"\", \"zerolinecolor\": \"white\"}}, \"shapedefaults\": {\"line\": {\"color\": \"#2a3f5f\"}}, \"ternary\": {\"aaxis\": {\"gridcolor\": \"white\", \"linecolor\": \"white\", \"ticks\": \"\"}, \"baxis\": {\"gridcolor\": \"white\", \"linecolor\": \"white\", \"ticks\": \"\"}, \"bgcolor\": \"#E5ECF6\", \"caxis\": {\"gridcolor\": \"white\", \"linecolor\": \"white\", \"ticks\": \"\"}}, \"title\": {\"x\": 0.05}, \"xaxis\": {\"automargin\": true, \"gridcolor\": \"white\", \"linecolor\": \"white\", \"ticks\": \"\", \"zerolinecolor\": \"white\", \"zerolinewidth\": 2}, \"yaxis\": {\"automargin\": true, \"gridcolor\": \"white\", \"linecolor\": \"white\", \"ticks\": \"\", \"zerolinecolor\": \"white\", \"zerolinewidth\": 2}}}, \"title\": {\"text\": \"Distribution of the different Iris flower features\"}, \"xaxis\": {\"domain\": [0, 0.25], \"title\": {\"text\": \"sepal length (cm)\"}}, \"xaxis2\": {\"domain\": [0.3, 0.5], \"title\": {\"text\": \"sepal width (cm)\"}}, \"xaxis3\": {\"domain\": [0.55, 0.75], \"title\": {\"text\": \"petal length (cm)\"}}, \"xaxis4\": {\"domain\": [0.8, 1], \"title\": {\"text\": \"petal width (cm)\"}}, \"yaxis\": {\"title\": {\"text\": \"count\"}}},\n",
              "                        {\"responsive\": true}\n",
              "                    ).then(function(){\n",
              "                            \n",
              "var gd = document.getElementById('2e849446-36e5-4bbf-b568-4c86f73eb421');\n",
              "var x = new MutationObserver(function (mutations, observer) {{\n",
              "        var display = window.getComputedStyle(gd).display;\n",
              "        if (!display || display === 'none') {{\n",
              "            console.log([gd, 'removed!']);\n",
              "            Plotly.purge(gd);\n",
              "            observer.disconnect();\n",
              "        }}\n",
              "}});\n",
              "\n",
              "// Listen for the removal of the full notebook cells\n",
              "var notebookContainer = gd.closest('#notebook-container');\n",
              "if (notebookContainer) {{\n",
              "    x.observe(notebookContainer, {childList: true});\n",
              "}}\n",
              "\n",
              "// Listen for the clearing of the current output cell\n",
              "var outputEl = gd.closest('.output');\n",
              "if (outputEl) {{\n",
              "    x.observe(outputEl, {childList: true});\n",
              "}}\n",
              "\n",
              "                        })\n",
              "                };\n",
              "                \n",
              "            </script>\n",
              "        </div>\n",
              "</body>\n",
              "</html>"
            ]
          },
          "metadata": {
            "tags": []
          }
        }
      ]
    },
    {
      "cell_type": "markdown",
      "metadata": {
        "id": "OOKP2jiWOQp_",
        "colab_type": "text"
      },
      "source": [
        "### Standardizing"
      ]
    },
    {
      "cell_type": "markdown",
      "metadata": {
        "id": "Gr742U8cOQqB",
        "colab_type": "text"
      },
      "source": [
        "Whether to standardize the data prior to a PCA on the covariance matrix depends on the measurement scales of the original features. Since PCA yields a feature subspace that maximizes the variance along the axes, it makes sense to standardize the data, especially, if it was measured on different scales. Although, all features in the Iris dataset were measured in centimeters, let us continue with the transformation of the data onto unit scale (mean=0 and variance=1), which is a requirement for the optimal performance of many machine learning algorithms."
      ]
    },
    {
      "cell_type": "code",
      "metadata": {
        "id": "1CU3YrmsOQqD",
        "colab_type": "code",
        "colab": {}
      },
      "source": [
        "from sklearn.preprocessing import StandardScaler\n",
        "X_std = StandardScaler().fit_transform(X)"
      ],
      "execution_count": 0,
      "outputs": []
    },
    {
      "cell_type": "markdown",
      "metadata": {
        "id": "S8uOLw_dOQqK",
        "colab_type": "text"
      },
      "source": [
        "## 1 - Eigendecomposition - Computing Eigenvectors and Eigenvalues"
      ]
    },
    {
      "cell_type": "markdown",
      "metadata": {
        "id": "exY9qipWOQqN",
        "colab_type": "text"
      },
      "source": [
        "The eigenvectors and eigenvalues of a covariance (or correlation) matrix represent the \"core\" of a PCA: The eigenvectors (principal components) determine the directions of the new feature space, and the eigenvalues determine their magnitude. In other words, the eigenvalues explain the variance of the data along the new feature axes."
      ]
    },
    {
      "cell_type": "markdown",
      "metadata": {
        "id": "j9L2jUWYOQqP",
        "colab_type": "text"
      },
      "source": [
        "### Covariance Matrix"
      ]
    },
    {
      "cell_type": "markdown",
      "metadata": {
        "id": "F0soaztPOQqR",
        "colab_type": "text"
      },
      "source": [
        "The classic approach to PCA is to perform the eigendecomposition on the covariance matrix $\\Sigma$, which is a $d \\times d$ matrix where each element represents the covariance between two features. The covariance between two features is calculated as follows:\n",
        "\n",
        "$\\sigma_{jk} = \\frac{1}{n-1}\\sum_{i=1}^{N}\\left(  x_{ij}-\\bar{x}_j \\right)  \\left( x_{ik}-\\bar{x}_k \\right).$\n",
        "\n",
        "We can summarize the calculation of the covariance matrix via the following matrix equation:   \n",
        "$\\Sigma = \\frac{1}{n-1} \\left( (\\mathbf{X} - \\mathbf{\\bar{x}})^T\\;(\\mathbf{X} - \\mathbf{\\bar{x}}) \\right)$  \n",
        "where $\\mathbf{\\bar{x}}$ is the mean vector \n",
        "$\\mathbf{\\bar{x}} = \\sum\\limits_{k=1}^n x_{i}.$  \n",
        "The mean vector is a $d$-dimensional vector where each value in this vector represents the sample mean of a feature column in the dataset."
      ]
    },
    {
      "cell_type": "code",
      "metadata": {
        "id": "bsk4n76YOQqU",
        "colab_type": "code",
        "colab": {
          "base_uri": "https://localhost:8080/",
          "height": 104
        },
        "outputId": "74342729-f570-49d2-f26b-0e8efeb5af8d"
      },
      "source": [
        "import numpy as np\n",
        "mean_vec = np.mean(X_std, axis=0)\n",
        "cov_mat = (X_std - mean_vec).T.dot((X_std - mean_vec)) / (X_std.shape[0]-1)\n",
        "print('Covariance matrix \\n%s' %cov_mat)"
      ],
      "execution_count": 6,
      "outputs": [
        {
          "output_type": "stream",
          "text": [
            "Covariance matrix \n",
            "[[ 1.00671141 -0.11010327  0.87760486  0.82344326]\n",
            " [-0.11010327  1.00671141 -0.42333835 -0.358937  ]\n",
            " [ 0.87760486 -0.42333835  1.00671141  0.96921855]\n",
            " [ 0.82344326 -0.358937    0.96921855  1.00671141]]\n"
          ],
          "name": "stdout"
        }
      ]
    },
    {
      "cell_type": "markdown",
      "metadata": {
        "id": "-l-24j9EOQqc",
        "colab_type": "text"
      },
      "source": [
        "The more verbose way above was simply used for demonstration purposes, equivalently, we could have used the numpy `cov` function:"
      ]
    },
    {
      "cell_type": "code",
      "metadata": {
        "id": "MZfiwKD0OQqe",
        "colab_type": "code",
        "colab": {
          "base_uri": "https://localhost:8080/",
          "height": 104
        },
        "outputId": "42c18dac-29b5-4c11-e4ae-786c7967a4b2"
      },
      "source": [
        "print('NumPy covariance matrix: \\n%s' %np.cov(X_std.T))"
      ],
      "execution_count": 7,
      "outputs": [
        {
          "output_type": "stream",
          "text": [
            "NumPy covariance matrix: \n",
            "[[ 1.00671141 -0.11010327  0.87760486  0.82344326]\n",
            " [-0.11010327  1.00671141 -0.42333835 -0.358937  ]\n",
            " [ 0.87760486 -0.42333835  1.00671141  0.96921855]\n",
            " [ 0.82344326 -0.358937    0.96921855  1.00671141]]\n"
          ],
          "name": "stdout"
        }
      ]
    },
    {
      "cell_type": "markdown",
      "metadata": {
        "id": "52cL3it6OQqj",
        "colab_type": "text"
      },
      "source": [
        "Next, we perform an eigendecomposition on the covariance matrix:"
      ]
    },
    {
      "cell_type": "code",
      "metadata": {
        "id": "UHQOE2lxOQql",
        "colab_type": "code",
        "colab": {
          "base_uri": "https://localhost:8080/",
          "height": 156
        },
        "outputId": "425ec62d-6b14-4cb8-f2e6-840b82fa1b0a"
      },
      "source": [
        "cov_mat = np.cov(X_std.T)\n",
        "\n",
        "eig_vals, eig_vecs = np.linalg.eig(cov_mat)\n",
        "\n",
        "print('Eigenvectors \\n%s' %eig_vecs)\n",
        "print('\\nEigenvalues \\n%s' %eig_vals)"
      ],
      "execution_count": 8,
      "outputs": [
        {
          "output_type": "stream",
          "text": [
            "Eigenvectors \n",
            "[[ 0.52237162 -0.37231836 -0.72101681  0.26199559]\n",
            " [-0.26335492 -0.92555649  0.24203288 -0.12413481]\n",
            " [ 0.58125401 -0.02109478  0.14089226 -0.80115427]\n",
            " [ 0.56561105 -0.06541577  0.6338014   0.52354627]]\n",
            "\n",
            "Eigenvalues \n",
            "[2.93035378 0.92740362 0.14834223 0.02074601]\n"
          ],
          "name": "stdout"
        }
      ]
    },
    {
      "cell_type": "markdown",
      "metadata": {
        "id": "dWjz67AvOQqq",
        "colab_type": "text"
      },
      "source": [
        "### Correlation Matrix\n",
        "Especially, in the field of \"Finance,\" the correlation matrix typically used instead of the covariance matrix. However, the eigendecomposition of the covariance matrix (if the input data was standardized) yields the same results as a eigendecomposition on the correlation matrix, since the correlation matrix can be understood as the normalized covariance matrix.\n",
        "Eigendecomposition of the standardized data based on the correlation matrix:"
      ]
    },
    {
      "cell_type": "code",
      "metadata": {
        "id": "QKylqJLdOQqr",
        "colab_type": "code",
        "colab": {
          "base_uri": "https://localhost:8080/",
          "height": 156
        },
        "outputId": "35a067e1-80dc-4296-a9d6-9870e18826a4"
      },
      "source": [
        "cor_mat1 = np.corrcoef(X_std.T)\n",
        "\n",
        "eig_vals, eig_vecs = np.linalg.eig(cor_mat1)\n",
        "\n",
        "print('Eigenvectors \\n%s' %eig_vecs)\n",
        "print('\\nEigenvalues \\n%s' %eig_vals)"
      ],
      "execution_count": 9,
      "outputs": [
        {
          "output_type": "stream",
          "text": [
            "Eigenvectors \n",
            "[[ 0.52237162 -0.37231836 -0.72101681  0.26199559]\n",
            " [-0.26335492 -0.92555649  0.24203288 -0.12413481]\n",
            " [ 0.58125401 -0.02109478  0.14089226 -0.80115427]\n",
            " [ 0.56561105 -0.06541577  0.6338014   0.52354627]]\n",
            "\n",
            "Eigenvalues \n",
            "[2.91081808 0.92122093 0.14735328 0.02060771]\n"
          ],
          "name": "stdout"
        }
      ]
    },
    {
      "cell_type": "markdown",
      "metadata": {
        "id": "ZABbApnrOQqz",
        "colab_type": "text"
      },
      "source": [
        "Eigendecomposition of the raw data based on the correlation matrix:"
      ]
    },
    {
      "cell_type": "code",
      "metadata": {
        "id": "m6U6FnGMOQq1",
        "colab_type": "code",
        "colab": {
          "base_uri": "https://localhost:8080/",
          "height": 156
        },
        "outputId": "7344899f-1634-4e9a-a8fd-94fd43b0a745"
      },
      "source": [
        "cor_mat2 = np.corrcoef(X.T)\n",
        "\n",
        "eig_vals, eig_vecs = np.linalg.eig(cor_mat2)\n",
        "\n",
        "print('Eigenvectors \\n%s' %eig_vecs)\n",
        "print('\\nEigenvalues \\n%s' %eig_vals)"
      ],
      "execution_count": 10,
      "outputs": [
        {
          "output_type": "stream",
          "text": [
            "Eigenvectors \n",
            "[[ 0.52237162 -0.37231836 -0.72101681  0.26199559]\n",
            " [-0.26335492 -0.92555649  0.24203288 -0.12413481]\n",
            " [ 0.58125401 -0.02109478  0.14089226 -0.80115427]\n",
            " [ 0.56561105 -0.06541577  0.6338014   0.52354627]]\n",
            "\n",
            "Eigenvalues \n",
            "[2.91081808 0.92122093 0.14735328 0.02060771]\n"
          ],
          "name": "stdout"
        }
      ]
    },
    {
      "cell_type": "markdown",
      "metadata": {
        "id": "h4920PuaOQq6",
        "colab_type": "text"
      },
      "source": [
        "We can clearly see that all three approaches yield the same eigenvectors and eigenvalue pairs:\n",
        "    \n",
        "- Eigendecomposition of the covariance matrix after standardizing the data.\n",
        "- Eigendecomposition of the correlation matrix.\n",
        "- Eigendecomposition of the correlation matrix after standardizing the data."
      ]
    },
    {
      "cell_type": "markdown",
      "metadata": {
        "id": "SRmM7v59OQq7",
        "colab_type": "text"
      },
      "source": [
        "### Singular Vector Decomposition\n",
        "While the eigendecomposition of the covariance or correlation matrix may be more intuitiuve, most PCA implementations perform a Singular Vector Decomposition (SVD) to improve the computational efficiency. So, let us perform an SVD to  confirm that the result are indeed the same:"
      ]
    },
    {
      "cell_type": "code",
      "metadata": {
        "id": "FfPnG7WaOQq_",
        "colab_type": "code",
        "colab": {
          "base_uri": "https://localhost:8080/",
          "height": 86
        },
        "outputId": "aff5ec34-c4ff-4fbe-f01a-c0766cd53508"
      },
      "source": [
        "u,s,v = np.linalg.svd(X_std.T)\n",
        "u"
      ],
      "execution_count": 11,
      "outputs": [
        {
          "output_type": "execute_result",
          "data": {
            "text/plain": [
              "array([[-0.52237162, -0.37231836,  0.72101681,  0.26199559],\n",
              "       [ 0.26335492, -0.92555649, -0.24203288, -0.12413481],\n",
              "       [-0.58125401, -0.02109478, -0.14089226, -0.80115427],\n",
              "       [-0.56561105, -0.06541577, -0.6338014 ,  0.52354627]])"
            ]
          },
          "metadata": {
            "tags": []
          },
          "execution_count": 11
        }
      ]
    },
    {
      "cell_type": "markdown",
      "metadata": {
        "id": "RmfAccTuOQrF",
        "colab_type": "text"
      },
      "source": [
        "## 2 - Selecting Principal Components"
      ]
    },
    {
      "cell_type": "markdown",
      "metadata": {
        "id": "9H6NQ4irOQrG",
        "colab_type": "text"
      },
      "source": [
        "The typical goal of a PCA is to reduce the dimensionality of the original feature space by projecting it onto a smaller subspace, where the eigenvectors will form the axes. However, the eigenvectors only define the directions of the new axis, since they have all the same unit length 1, which can confirmed by the following two lines of code:"
      ]
    },
    {
      "cell_type": "code",
      "metadata": {
        "id": "bb_R-vDkOQrH",
        "colab_type": "code",
        "colab": {
          "base_uri": "https://localhost:8080/",
          "height": 34
        },
        "outputId": "b522a372-f211-4e2a-f413-e8490e1919c1"
      },
      "source": [
        "for ev in eig_vecs:\n",
        "    np.testing.assert_array_almost_equal(1.0, np.linalg.norm(ev))\n",
        "print('Everything ok!')"
      ],
      "execution_count": 12,
      "outputs": [
        {
          "output_type": "stream",
          "text": [
            "Everything ok!\n"
          ],
          "name": "stdout"
        }
      ]
    },
    {
      "cell_type": "markdown",
      "metadata": {
        "id": "NVefTDOqOQrW",
        "colab_type": "text"
      },
      "source": [
        "In order to decide which eigenvector(s) can be dropped without losing too much information\n",
        "for the construction of lower-dimensional subspace, we need to inspect the corresponding eigenvalues: The eigenvectors with the lowest eigenvalues bear the least information about the distribution of the data; those are the ones can be dropped.  \n",
        "In order to do so, the common approach is to rank the eigenvalues from highest to lowest in order choose the top $k$ eigenvectors."
      ]
    },
    {
      "cell_type": "code",
      "metadata": {
        "id": "11fHdVWyOQra",
        "colab_type": "code",
        "colab": {
          "base_uri": "https://localhost:8080/",
          "height": 104
        },
        "outputId": "05aaa809-f790-4867-fc18-47ade62dc20a"
      },
      "source": [
        "# Make a list of (eigenvalue, eigenvector) tuples\n",
        "eig_pairs = [(np.abs(eig_vals[i]), eig_vecs[:,i]) for i in range(len(eig_vals))]\n",
        "\n",
        "# Sort the (eigenvalue, eigenvector) tuples from high to low\n",
        "eig_pairs.sort()\n",
        "eig_pairs.reverse()\n",
        "\n",
        "# Visually confirm that the list is correctly sorted by decreasing eigenvalues\n",
        "print('Eigenvalues in descending order:')\n",
        "for i in eig_pairs:\n",
        "    print(i[0])"
      ],
      "execution_count": 13,
      "outputs": [
        {
          "output_type": "stream",
          "text": [
            "Eigenvalues in descending order:\n",
            "2.9108180837520528\n",
            "0.9212209307072254\n",
            "0.1473532783050958\n",
            "0.020607707235624842\n"
          ],
          "name": "stdout"
        }
      ]
    },
    {
      "cell_type": "markdown",
      "metadata": {
        "id": "vmQ450YIOQrd",
        "colab_type": "text"
      },
      "source": [
        "After sorting the eigenpairs, the next question is \"how many principal components are we going to choose for our new feature subspace?\" A useful measure is the so-called \"explained variance,\" which can be calculated from the eigenvalues. The explained variance tells us how much information (variance) can be attributed to each of the principal components."
      ]
    },
    {
      "cell_type": "code",
      "metadata": {
        "id": "sSlBOjetOQrg",
        "colab_type": "code",
        "colab": {
          "base_uri": "https://localhost:8080/",
          "height": 542
        },
        "outputId": "33a78ef4-8cf9-4103-9021-2e89bb1eeb3a"
      },
      "source": [
        "tot = sum(eig_vals)\n",
        "var_exp = [(i / tot)*100 for i in sorted(eig_vals, reverse=True)]\n",
        "cum_var_exp = np.cumsum(var_exp)\n",
        "\n",
        "trace1 = dict(\n",
        "    type='bar',\n",
        "    x=['PC %s' %i for i in range(1,5)],\n",
        "    y=var_exp,\n",
        "    name='Individual'\n",
        ")\n",
        "\n",
        "trace2 = dict(\n",
        "    type='scatter',\n",
        "    x=['PC %s' %i for i in range(1,5)], \n",
        "    y=cum_var_exp,\n",
        "    name='Cumulative'\n",
        ")\n",
        "\n",
        "data = [trace1, trace2]\n",
        "\n",
        "layout=dict(\n",
        "    title='Explained variance by different principal components',\n",
        "    yaxis=dict(\n",
        "        title='Explained variance in percent'\n",
        "    ),\n",
        "    annotations=list([\n",
        "        dict(\n",
        "            x=1.16,\n",
        "            y=1.05,\n",
        "            xref='paper',\n",
        "            yref='paper',\n",
        "            text='Explained Variance',\n",
        "            showarrow=False,\n",
        "        )\n",
        "    ])\n",
        ")\n",
        "\n",
        "fig = dict(data=data, layout=layout)\n",
        "py.iplot(fig, filename='selecting-principal-components')"
      ],
      "execution_count": 14,
      "outputs": [
        {
          "output_type": "display_data",
          "data": {
            "text/html": [
              "<html>\n",
              "<head><meta charset=\"utf-8\" /></head>\n",
              "<body>\n",
              "    <div>\n",
              "            <script src=\"https://cdnjs.cloudflare.com/ajax/libs/mathjax/2.7.5/MathJax.js?config=TeX-AMS-MML_SVG\"></script><script type=\"text/javascript\">if (window.MathJax) {MathJax.Hub.Config({SVG: {font: \"STIX-Web\"}});}</script>\n",
              "                <script type=\"text/javascript\">window.PlotlyConfig = {MathJaxConfig: 'local'};</script>\n",
              "        <script src=\"https://cdn.plot.ly/plotly-latest.min.js\"></script>    \n",
              "            <div id=\"7b05db88-c938-430a-bbdd-448065a3cadb\" class=\"plotly-graph-div\" style=\"height:525px; width:100%;\"></div>\n",
              "            <script type=\"text/javascript\">\n",
              "                \n",
              "                    window.PLOTLYENV=window.PLOTLYENV || {};\n",
              "                    \n",
              "                if (document.getElementById(\"7b05db88-c938-430a-bbdd-448065a3cadb\")) {\n",
              "                    Plotly.newPlot(\n",
              "                        '7b05db88-c938-430a-bbdd-448065a3cadb',\n",
              "                        [{\"name\": \"Individual\", \"type\": \"bar\", \"x\": [\"PC 1\", \"PC 2\", \"PC 3\", \"PC 4\"], \"y\": [72.77045209380134, 23.030523267680643, 3.683831957627396, 0.5151926808906212]}, {\"name\": \"Cumulative\", \"type\": \"scatter\", \"x\": [\"PC 1\", \"PC 2\", \"PC 3\", \"PC 4\"], \"y\": [72.77045209380134, 95.80097536148199, 99.48480731910938, 100.0]}],\n",
              "                        {\"annotations\": [{\"showarrow\": false, \"text\": \"Explained Variance\", \"x\": 1.16, \"xref\": \"paper\", \"y\": 1.05, \"yref\": \"paper\"}], \"template\": {\"data\": {\"bar\": [{\"error_x\": {\"color\": \"#2a3f5f\"}, \"error_y\": {\"color\": \"#2a3f5f\"}, \"marker\": {\"line\": {\"color\": \"#E5ECF6\", \"width\": 0.5}}, \"type\": \"bar\"}], \"barpolar\": [{\"marker\": {\"line\": {\"color\": \"#E5ECF6\", \"width\": 0.5}}, \"type\": \"barpolar\"}], \"carpet\": [{\"aaxis\": {\"endlinecolor\": \"#2a3f5f\", \"gridcolor\": \"white\", \"linecolor\": \"white\", \"minorgridcolor\": \"white\", \"startlinecolor\": \"#2a3f5f\"}, \"baxis\": {\"endlinecolor\": \"#2a3f5f\", \"gridcolor\": \"white\", \"linecolor\": \"white\", \"minorgridcolor\": \"white\", \"startlinecolor\": \"#2a3f5f\"}, \"type\": \"carpet\"}], \"choropleth\": [{\"colorbar\": {\"outlinewidth\": 0, \"ticks\": \"\"}, \"type\": \"choropleth\"}], \"contour\": [{\"colorbar\": {\"outlinewidth\": 0, \"ticks\": \"\"}, \"colorscale\": [[0.0, \"#0d0887\"], [0.1111111111111111, \"#46039f\"], [0.2222222222222222, \"#7201a8\"], [0.3333333333333333, \"#9c179e\"], [0.4444444444444444, \"#bd3786\"], [0.5555555555555556, \"#d8576b\"], [0.6666666666666666, \"#ed7953\"], [0.7777777777777778, \"#fb9f3a\"], [0.8888888888888888, \"#fdca26\"], [1.0, \"#f0f921\"]], \"type\": \"contour\"}], \"contourcarpet\": [{\"colorbar\": {\"outlinewidth\": 0, \"ticks\": \"\"}, \"type\": \"contourcarpet\"}], \"heatmap\": [{\"colorbar\": {\"outlinewidth\": 0, \"ticks\": \"\"}, \"colorscale\": [[0.0, \"#0d0887\"], [0.1111111111111111, \"#46039f\"], [0.2222222222222222, \"#7201a8\"], [0.3333333333333333, \"#9c179e\"], [0.4444444444444444, \"#bd3786\"], [0.5555555555555556, \"#d8576b\"], [0.6666666666666666, \"#ed7953\"], [0.7777777777777778, \"#fb9f3a\"], [0.8888888888888888, \"#fdca26\"], [1.0, \"#f0f921\"]], \"type\": \"heatmap\"}], \"heatmapgl\": [{\"colorbar\": {\"outlinewidth\": 0, \"ticks\": \"\"}, \"colorscale\": [[0.0, \"#0d0887\"], [0.1111111111111111, \"#46039f\"], [0.2222222222222222, \"#7201a8\"], [0.3333333333333333, \"#9c179e\"], [0.4444444444444444, \"#bd3786\"], [0.5555555555555556, \"#d8576b\"], [0.6666666666666666, \"#ed7953\"], [0.7777777777777778, \"#fb9f3a\"], [0.8888888888888888, \"#fdca26\"], [1.0, \"#f0f921\"]], \"type\": \"heatmapgl\"}], \"histogram\": [{\"marker\": {\"colorbar\": {\"outlinewidth\": 0, \"ticks\": \"\"}}, \"type\": \"histogram\"}], \"histogram2d\": [{\"colorbar\": {\"outlinewidth\": 0, \"ticks\": \"\"}, \"colorscale\": [[0.0, \"#0d0887\"], [0.1111111111111111, \"#46039f\"], [0.2222222222222222, \"#7201a8\"], [0.3333333333333333, \"#9c179e\"], [0.4444444444444444, \"#bd3786\"], [0.5555555555555556, \"#d8576b\"], [0.6666666666666666, \"#ed7953\"], [0.7777777777777778, \"#fb9f3a\"], [0.8888888888888888, \"#fdca26\"], [1.0, \"#f0f921\"]], \"type\": \"histogram2d\"}], \"histogram2dcontour\": [{\"colorbar\": {\"outlinewidth\": 0, \"ticks\": \"\"}, \"colorscale\": [[0.0, \"#0d0887\"], [0.1111111111111111, \"#46039f\"], [0.2222222222222222, \"#7201a8\"], [0.3333333333333333, \"#9c179e\"], [0.4444444444444444, \"#bd3786\"], [0.5555555555555556, \"#d8576b\"], [0.6666666666666666, \"#ed7953\"], [0.7777777777777778, \"#fb9f3a\"], [0.8888888888888888, \"#fdca26\"], [1.0, \"#f0f921\"]], \"type\": \"histogram2dcontour\"}], \"mesh3d\": [{\"colorbar\": {\"outlinewidth\": 0, \"ticks\": \"\"}, \"type\": \"mesh3d\"}], \"parcoords\": [{\"line\": {\"colorbar\": {\"outlinewidth\": 0, \"ticks\": \"\"}}, \"type\": \"parcoords\"}], \"scatter\": [{\"marker\": {\"colorbar\": {\"outlinewidth\": 0, \"ticks\": \"\"}}, \"type\": \"scatter\"}], \"scatter3d\": [{\"line\": {\"colorbar\": {\"outlinewidth\": 0, \"ticks\": \"\"}}, \"marker\": {\"colorbar\": {\"outlinewidth\": 0, \"ticks\": \"\"}}, \"type\": \"scatter3d\"}], \"scattercarpet\": [{\"marker\": {\"colorbar\": {\"outlinewidth\": 0, \"ticks\": \"\"}}, \"type\": \"scattercarpet\"}], \"scattergeo\": [{\"marker\": {\"colorbar\": {\"outlinewidth\": 0, \"ticks\": \"\"}}, \"type\": \"scattergeo\"}], \"scattergl\": [{\"marker\": {\"colorbar\": {\"outlinewidth\": 0, \"ticks\": \"\"}}, \"type\": \"scattergl\"}], \"scattermapbox\": [{\"marker\": {\"colorbar\": {\"outlinewidth\": 0, \"ticks\": \"\"}}, \"type\": \"scattermapbox\"}], \"scatterpolar\": [{\"marker\": {\"colorbar\": {\"outlinewidth\": 0, \"ticks\": \"\"}}, \"type\": \"scatterpolar\"}], \"scatterpolargl\": [{\"marker\": {\"colorbar\": {\"outlinewidth\": 0, \"ticks\": \"\"}}, \"type\": \"scatterpolargl\"}], \"scatterternary\": [{\"marker\": {\"colorbar\": {\"outlinewidth\": 0, \"ticks\": \"\"}}, \"type\": \"scatterternary\"}], \"surface\": [{\"colorbar\": {\"outlinewidth\": 0, \"ticks\": \"\"}, \"colorscale\": [[0.0, \"#0d0887\"], [0.1111111111111111, \"#46039f\"], [0.2222222222222222, \"#7201a8\"], [0.3333333333333333, \"#9c179e\"], [0.4444444444444444, \"#bd3786\"], [0.5555555555555556, \"#d8576b\"], [0.6666666666666666, \"#ed7953\"], [0.7777777777777778, \"#fb9f3a\"], [0.8888888888888888, \"#fdca26\"], [1.0, \"#f0f921\"]], \"type\": \"surface\"}], \"table\": [{\"cells\": {\"fill\": {\"color\": \"#EBF0F8\"}, \"line\": {\"color\": \"white\"}}, \"header\": {\"fill\": {\"color\": \"#C8D4E3\"}, \"line\": {\"color\": \"white\"}}, \"type\": \"table\"}]}, \"layout\": {\"annotationdefaults\": {\"arrowcolor\": \"#2a3f5f\", \"arrowhead\": 0, \"arrowwidth\": 1}, \"colorscale\": {\"diverging\": [[0, \"#8e0152\"], [0.1, \"#c51b7d\"], [0.2, \"#de77ae\"], [0.3, \"#f1b6da\"], [0.4, \"#fde0ef\"], [0.5, \"#f7f7f7\"], [0.6, \"#e6f5d0\"], [0.7, \"#b8e186\"], [0.8, \"#7fbc41\"], [0.9, \"#4d9221\"], [1, \"#276419\"]], \"sequential\": [[0.0, \"#0d0887\"], [0.1111111111111111, \"#46039f\"], [0.2222222222222222, \"#7201a8\"], [0.3333333333333333, \"#9c179e\"], [0.4444444444444444, \"#bd3786\"], [0.5555555555555556, \"#d8576b\"], [0.6666666666666666, \"#ed7953\"], [0.7777777777777778, \"#fb9f3a\"], [0.8888888888888888, \"#fdca26\"], [1.0, \"#f0f921\"]], \"sequentialminus\": [[0.0, \"#0d0887\"], [0.1111111111111111, \"#46039f\"], [0.2222222222222222, \"#7201a8\"], [0.3333333333333333, \"#9c179e\"], [0.4444444444444444, \"#bd3786\"], [0.5555555555555556, \"#d8576b\"], [0.6666666666666666, \"#ed7953\"], [0.7777777777777778, \"#fb9f3a\"], [0.8888888888888888, \"#fdca26\"], [1.0, \"#f0f921\"]]}, \"colorway\": [\"#636efa\", \"#EF553B\", \"#00cc96\", \"#ab63fa\", \"#FFA15A\", \"#19d3f3\", \"#FF6692\", \"#B6E880\", \"#FF97FF\", \"#FECB52\"], \"font\": {\"color\": \"#2a3f5f\"}, \"geo\": {\"bgcolor\": \"white\", \"lakecolor\": \"white\", \"landcolor\": \"#E5ECF6\", \"showlakes\": true, \"showland\": true, \"subunitcolor\": \"white\"}, \"hoverlabel\": {\"align\": \"left\"}, \"hovermode\": \"closest\", \"mapbox\": {\"style\": \"light\"}, \"paper_bgcolor\": \"white\", \"plot_bgcolor\": \"#E5ECF6\", \"polar\": {\"angularaxis\": {\"gridcolor\": \"white\", \"linecolor\": \"white\", \"ticks\": \"\"}, \"bgcolor\": \"#E5ECF6\", \"radialaxis\": {\"gridcolor\": \"white\", \"linecolor\": \"white\", \"ticks\": \"\"}}, \"scene\": {\"xaxis\": {\"backgroundcolor\": \"#E5ECF6\", \"gridcolor\": \"white\", \"gridwidth\": 2, \"linecolor\": \"white\", \"showbackground\": true, \"ticks\": \"\", \"zerolinecolor\": \"white\"}, \"yaxis\": {\"backgroundcolor\": \"#E5ECF6\", \"gridcolor\": \"white\", \"gridwidth\": 2, \"linecolor\": \"white\", \"showbackground\": true, \"ticks\": \"\", \"zerolinecolor\": \"white\"}, \"zaxis\": {\"backgroundcolor\": \"#E5ECF6\", \"gridcolor\": \"white\", \"gridwidth\": 2, \"linecolor\": \"white\", \"showbackground\": true, \"ticks\": \"\", \"zerolinecolor\": \"white\"}}, \"shapedefaults\": {\"line\": {\"color\": \"#2a3f5f\"}}, \"ternary\": {\"aaxis\": {\"gridcolor\": \"white\", \"linecolor\": \"white\", \"ticks\": \"\"}, \"baxis\": {\"gridcolor\": \"white\", \"linecolor\": \"white\", \"ticks\": \"\"}, \"bgcolor\": \"#E5ECF6\", \"caxis\": {\"gridcolor\": \"white\", \"linecolor\": \"white\", \"ticks\": \"\"}}, \"title\": {\"x\": 0.05}, \"xaxis\": {\"automargin\": true, \"gridcolor\": \"white\", \"linecolor\": \"white\", \"ticks\": \"\", \"zerolinecolor\": \"white\", \"zerolinewidth\": 2}, \"yaxis\": {\"automargin\": true, \"gridcolor\": \"white\", \"linecolor\": \"white\", \"ticks\": \"\", \"zerolinecolor\": \"white\", \"zerolinewidth\": 2}}}, \"title\": {\"text\": \"Explained variance by different principal components\"}, \"yaxis\": {\"title\": {\"text\": \"Explained variance in percent\"}}},\n",
              "                        {\"responsive\": true}\n",
              "                    ).then(function(){\n",
              "                            \n",
              "var gd = document.getElementById('7b05db88-c938-430a-bbdd-448065a3cadb');\n",
              "var x = new MutationObserver(function (mutations, observer) {{\n",
              "        var display = window.getComputedStyle(gd).display;\n",
              "        if (!display || display === 'none') {{\n",
              "            console.log([gd, 'removed!']);\n",
              "            Plotly.purge(gd);\n",
              "            observer.disconnect();\n",
              "        }}\n",
              "}});\n",
              "\n",
              "// Listen for the removal of the full notebook cells\n",
              "var notebookContainer = gd.closest('#notebook-container');\n",
              "if (notebookContainer) {{\n",
              "    x.observe(notebookContainer, {childList: true});\n",
              "}}\n",
              "\n",
              "// Listen for the clearing of the current output cell\n",
              "var outputEl = gd.closest('.output');\n",
              "if (outputEl) {{\n",
              "    x.observe(outputEl, {childList: true});\n",
              "}}\n",
              "\n",
              "                        })\n",
              "                };\n",
              "                \n",
              "            </script>\n",
              "        </div>\n",
              "</body>\n",
              "</html>"
            ]
          },
          "metadata": {
            "tags": []
          }
        }
      ]
    },
    {
      "cell_type": "markdown",
      "metadata": {
        "id": "KREOxOsAOQrm",
        "colab_type": "text"
      },
      "source": [
        "The plot above clearly shows that most of the variance (72.77% of the variance to be precise) can be explained by the first principal component alone. The second principal component still bears some information (23.03%) while the third and fourth principal components can safely be dropped without losing to much information. Together, the first two principal components contain 95.8% of the information."
      ]
    },
    {
      "cell_type": "markdown",
      "metadata": {
        "id": "NJOL4lsSOQrn",
        "colab_type": "text"
      },
      "source": [
        "It's about time to get to the really interesting part: The construction of the projection matrix that will be used to transform the Iris data onto the new feature subspace. Although, the name \"projection matrix\" has a nice ring to it, it is basically just a matrix of our concatenated top *k* eigenvectors.\n",
        "\n",
        "Here, we are reducing the 4-dimensional feature space to a 2-dimensional feature subspace, by choosing the \"top 2\" eigenvectors with the highest eigenvalues to construct our $d \\times k$-dimensional eigenvector matrix $\\mathbf{W}$."
      ]
    },
    {
      "cell_type": "code",
      "metadata": {
        "id": "71e0JS0sOQro",
        "colab_type": "code",
        "colab": {
          "base_uri": "https://localhost:8080/",
          "height": 104
        },
        "outputId": "0df3f983-f606-410f-c1b3-a53602d0bff4"
      },
      "source": [
        "matrix_w = np.hstack((eig_pairs[0][1].reshape(4,1), \n",
        "                      eig_pairs[1][1].reshape(4,1)))\n",
        "\n",
        "print('Matrix W:\\n', matrix_w)"
      ],
      "execution_count": 15,
      "outputs": [
        {
          "output_type": "stream",
          "text": [
            "Matrix W:\n",
            " [[ 0.52237162 -0.37231836]\n",
            " [-0.26335492 -0.92555649]\n",
            " [ 0.58125401 -0.02109478]\n",
            " [ 0.56561105 -0.06541577]]\n"
          ],
          "name": "stdout"
        }
      ]
    },
    {
      "cell_type": "markdown",
      "metadata": {
        "id": "liUpQoiFOQrr",
        "colab_type": "text"
      },
      "source": [
        "## 3 - Projection Onto the New Feature Space"
      ]
    },
    {
      "cell_type": "markdown",
      "metadata": {
        "id": "O-yKnn2AOQrs",
        "colab_type": "text"
      },
      "source": [
        "In this last step we will use the $4 \\times 2$-dimensional projection matrix $\\mathbf{W}$ to transform our samples onto the new subspace via the equation  \n",
        "$\\mathbf{Y} = \\mathbf{X} \\times  \\mathbf{W}$, where $\\mathbf{Y}$ is a $150\\times 2$ matrix of our transformed samples."
      ]
    },
    {
      "cell_type": "code",
      "metadata": {
        "id": "HVqzdOpPOQrt",
        "colab_type": "code",
        "colab": {}
      },
      "source": [
        "Y = X_std.dot(matrix_w)"
      ],
      "execution_count": 0,
      "outputs": []
    },
    {
      "cell_type": "code",
      "metadata": {
        "id": "5E08NRmYOQry",
        "colab_type": "code",
        "colab": {
          "base_uri": "https://localhost:8080/",
          "height": 542
        },
        "outputId": "30cff4f6-e294-40d7-ccf3-3de23aa0e402"
      },
      "source": [
        "\n",
        "data = []\n",
        "\n",
        "for name, col in zip(('Iris-setosa', 'Iris-versicolor', 'Iris-virginica'), colors.values()):\n",
        "    trace = dict(\n",
        "        type='scatter',\n",
        "        x=Y[y==name,0],\n",
        "        y=Y[y==name,1],\n",
        "        mode='markers',\n",
        "        name=name,\n",
        "        marker=dict(\n",
        "            color=col,\n",
        "            size=12,\n",
        "            line=dict(\n",
        "                color='rgba(217, 217, 217, 0.14)',\n",
        "                width=0.5),\n",
        "            opacity=0.8)\n",
        "    )\n",
        "    data.append(trace)\n",
        "\n",
        "layout = dict(\n",
        "    showlegend=True,\n",
        "    scene=dict(\n",
        "        xaxis=dict(title='PC1'),\n",
        "        yaxis=dict(title='PC2')\n",
        "    )\n",
        ")\n",
        "\n",
        "fig = dict(data=data, layout=layout)\n",
        "py.iplot(fig, filename='projection-matrix')"
      ],
      "execution_count": 17,
      "outputs": [
        {
          "output_type": "display_data",
          "data": {
            "text/html": [
              "<html>\n",
              "<head><meta charset=\"utf-8\" /></head>\n",
              "<body>\n",
              "    <div>\n",
              "            <script src=\"https://cdnjs.cloudflare.com/ajax/libs/mathjax/2.7.5/MathJax.js?config=TeX-AMS-MML_SVG\"></script><script type=\"text/javascript\">if (window.MathJax) {MathJax.Hub.Config({SVG: {font: \"STIX-Web\"}});}</script>\n",
              "                <script type=\"text/javascript\">window.PlotlyConfig = {MathJaxConfig: 'local'};</script>\n",
              "        <script src=\"https://cdn.plot.ly/plotly-latest.min.js\"></script>    \n",
              "            <div id=\"0c8648e2-a26e-4556-a3a8-d9f3b9453f7e\" class=\"plotly-graph-div\" style=\"height:525px; width:100%;\"></div>\n",
              "            <script type=\"text/javascript\">\n",
              "                \n",
              "                    window.PLOTLYENV=window.PLOTLYENV || {};\n",
              "                    \n",
              "                if (document.getElementById(\"0c8648e2-a26e-4556-a3a8-d9f3b9453f7e\")) {\n",
              "                    Plotly.newPlot(\n",
              "                        '0c8648e2-a26e-4556-a3a8-d9f3b9453f7e',\n",
              "                        [{\"marker\": {\"color\": \"#0D76BF\", \"line\": {\"color\": \"rgba(217, 217, 217, 0.14)\", \"width\": 0.5}, \"opacity\": 0.8, \"size\": 12}, \"mode\": \"markers\", \"name\": \"Iris-setosa\", \"type\": \"scatter\", \"x\": [-2.2645417283949003, -2.0864255006161585, -2.367950449062526, -2.304197161152009, -2.3887774935056423, -2.070536807180554, -2.445711339630283, -2.233841858709266, -2.3419576764553893, -2.1886757552808698, -2.1634865562665233, -2.327377754134374, -2.224082722045002, -2.639716260844629, -2.1922915084984305, -2.251465214584066, -2.2027504800800863, -2.1901791637910524, -1.894074293023669, -2.3399490704234083, -1.9145563949595175, -2.204645397533814, -2.774169793705157, -1.820411563337214, -2.228217499459725, -1.957024007341397, -2.0520633112766866, -2.1681936533450212, -2.140305963284158, -2.2687901943878765, -2.1445544292771346, -1.8319381022015875, -2.608202867663348, -2.4379508590951438, -2.1886757552808698, -2.2111198968124226, -2.044416519319801, -2.1886757552808698, -2.435952202966019, -2.1705472018842706, -2.2865272388409306, -1.87170722353695, -2.557834419537512, -1.9642792903547375, -2.1333728329200286, -2.0753575928373063, -2.3812582168023737, -2.3981916876626386, -2.226781213091519, -2.2059541686484025], \"y\": [-0.5057039027737836, 0.6554047293691376, 0.31847731084725, 0.5753677125331962, -0.6747673967025144, -1.5185485598885122, -0.07456267500687336, -0.2476139317522642, 1.0951463625829563, 0.4486290483375602, -1.0705955760377253, -0.15858745465947516, 0.7091181580302274, 0.938281982107855, -1.8899785123164643, -2.7223710765744684, -1.5137502825462177, -0.5143043082206918, -1.4311107069412359, -1.1580334289850005, -0.43046516328013684, -0.9524573172889975, -0.48951702650349427, -0.1067507928354053, -0.16218616266619615, 0.607892567483809, -0.2660143119816543, -0.5520164953235389, -0.33664040884505325, 0.31487860284052904, 0.4839420967692598, -0.445266835502806, -1.8284751927341005, -2.185391615630892, 0.4486290483375602, 0.1843378105402798, -0.6849564262949354, 0.4486290483375602, 0.8821694147756178, -0.2927269549664453, -0.4679917156709371, 2.3276916061149113, 0.4538163804897939, -0.49739164001838276, -1.1714321117742033, 0.691917347136411, -1.1506325928736658, 0.3623907647258579, -1.0254825528235436, -0.03223784527377856]}, {\"marker\": {\"color\": \"#00cc96\", \"line\": {\"color\": \"rgba(217, 217, 217, 0.14)\", \"width\": 0.5}, \"opacity\": 0.8, \"size\": 12}, \"mode\": \"markers\", \"name\": \"Iris-versicolor\", \"type\": \"scatter\", \"x\": [1.1039936528045715, 0.7324814400086804, 1.242109505318937, 0.3973072828233279, 1.072593948201545, 0.38445814616900187, 0.7487150759515525, -0.4978633877981171, 0.9262223675330976, 0.004968025584320043, -0.12469746138036975, 0.43873011778054677, 0.5516339814225077, 0.7171650662368512, -0.03725838296568807, 0.8758905359406826, 0.3480064019802089, 0.153392544568667, 1.2153032092161544, 0.156941175644251, 0.7382561043698961, 0.47236968234456833, 1.2279882140834426, 0.6293810453149018, 0.7004727992084578, 0.8735369874014332, 1.2542221905224493, 1.3582398473872714, 0.6621261375659377, -0.047281513319879925, 0.1215342088801192, 0.014118226051388195, 0.23601083732659697, 1.056691428090577, 0.22141708833021825, 0.43178316074105333, 1.0494133552191798, 1.0358782103228243, 0.06706759987298054, 0.27542506625183477, 0.27233506626177256, 0.6231705397262214, 0.3300053638372267, -0.37362762268737526, 0.2829443429551032, 0.08905311031901156, 0.2243567832086062, 0.5738834855584668, -0.4570128725046742, 0.2522444732694695], \"y\": [-0.8631124458513232, -0.5986355733419966, -0.6148224496122857, 1.758168947443527, 0.21175790267989655, 0.591062468622737, -0.7786986113887815, 1.848868771275443, -0.030330826783380112, 1.0294011124030884, 2.658062677961761, 0.058881285021455, 1.772581564856256, 0.18543431450504455, 0.43279509871416966, -0.5099981510591465, 0.1906216466572783, 0.7907254562344863, 1.633355644515484, 1.303103270172912, -0.4024703816185355, 0.41660822244388035, 0.9409147925302731, 0.4168116425417729, 0.06349392765170318, -0.25070861070205297, 0.08262009981311354, -0.3288202662704012, 0.22434607094346481, 1.0572124126050213, 1.5635923798655789, 1.5733923546480606, 0.7759237840118173, 0.6369012837689376, 0.28084769308564056, -0.8551369202180024, -0.5221972645127758, 1.3924664843877819, 0.21262073489338937, 1.3298159131577028, 1.1194415241194047, -0.027542633302293743, 0.9889007318191556, 2.017932265204174, 0.8539507169865507, 0.17490854779054235, 0.3804846594865461, 0.15371997408006588, 1.5394645102639815, 0.5958607459650317]}, {\"marker\": {\"color\": \"#EF553B\", \"line\": {\"color\": \"rgba(217, 217, 217, 0.14)\", \"width\": 0.5}, \"opacity\": 0.8, \"size\": 12}, \"mode\": \"markers\", \"name\": \"Iris-virginica\", \"type\": \"scatter\", \"x\": [1.8476725943096644, 1.1531898082521297, 2.206349497126593, 1.438685402326182, 1.8678907025555846, 2.7541967088257517, 0.358374474841669, 2.3030058981503188, 2.0017352992189164, 2.2675545991022674, 1.365909429202214, 1.5990645856518693, 1.884251853752074, 1.2530865143775927, 1.4640615229856233, 1.591809302638529, 1.4712801894655434, 2.437378482193507, 3.3091411826760786, 1.2539809866905784, 2.0404962596630387, 0.9739151144704744, 2.898064435843276, 1.3291936913234934, 1.7042407085196054, 1.9577276617934345, 1.1719045079878687, 1.019781052816263, 1.7860088612484681, 1.8647779127074655, 2.4354973914151428, 2.316082411961153, 1.8603714258523163, 1.111271725675969, 1.1974691551180379, 2.800949403734028, 1.5801552485205372, 1.3470444243548017, 0.9234329777663844, 1.8535519840664403, 2.016157200677759, 1.9031168585994869, 1.1531898082521297, 2.0433084392878094, 2.0016909669349974, 1.8705220714601254, 1.5584918907237175, 1.5208450639985904, 1.3763911906419282, 0.9592985756160383], \"y\": [-0.8716966617734131, 0.7013261138565757, -0.5544701049349221, 0.05001052226888601, -0.29119280176116885, -0.7884322063548442, 1.5600945839772895, -0.40951669522194273, 0.72386535931266, -1.9214429914653546, -0.6939480398041606, 0.4282488359003402, -0.41433275795008356, 1.167391335245246, 0.4441475694791236, -0.6770353716018516, -0.253192471966815, -2.5567573414948015, 0.0023613201020836615, 1.7175838442659783, -0.9073987650150527, 0.5711743763662664, -0.3977913591718675, 0.4867605419037247, -1.0141484248357846, -1.0033345154297766, 0.31889661731056845, -0.06554296309664762, 0.1932727998568917, -0.555381531578989, -0.24665446806897337, -2.626183869022627, 0.18467239440998345, 0.2959861024303909, 0.8171677419136165, -0.8447481937849739, -1.0724744961271222, -0.4222559658955458, -0.019230370546892795, -0.6724227289716033, -0.6103970375551127, -0.6860248318586987, 0.7013261138565757, -0.8646848804720186, -1.0485500466234177, -0.38282183762299776, 0.9053136014070666, -0.26679457485391045, -1.0163619287948855, 0.022283944660567368]}],\n",
              "                        {\"scene\": {\"xaxis\": {\"title\": {\"text\": \"PC1\"}}, \"yaxis\": {\"title\": {\"text\": \"PC2\"}}}, \"showlegend\": true, \"template\": {\"data\": {\"bar\": [{\"error_x\": {\"color\": \"#2a3f5f\"}, \"error_y\": {\"color\": \"#2a3f5f\"}, \"marker\": {\"line\": {\"color\": \"#E5ECF6\", \"width\": 0.5}}, \"type\": \"bar\"}], \"barpolar\": [{\"marker\": {\"line\": {\"color\": \"#E5ECF6\", \"width\": 0.5}}, \"type\": \"barpolar\"}], \"carpet\": [{\"aaxis\": {\"endlinecolor\": \"#2a3f5f\", \"gridcolor\": \"white\", \"linecolor\": \"white\", \"minorgridcolor\": \"white\", \"startlinecolor\": \"#2a3f5f\"}, \"baxis\": {\"endlinecolor\": \"#2a3f5f\", \"gridcolor\": \"white\", \"linecolor\": \"white\", \"minorgridcolor\": \"white\", \"startlinecolor\": \"#2a3f5f\"}, \"type\": \"carpet\"}], \"choropleth\": [{\"colorbar\": {\"outlinewidth\": 0, \"ticks\": \"\"}, \"type\": \"choropleth\"}], \"contour\": [{\"colorbar\": {\"outlinewidth\": 0, \"ticks\": \"\"}, \"colorscale\": [[0.0, \"#0d0887\"], [0.1111111111111111, \"#46039f\"], [0.2222222222222222, \"#7201a8\"], [0.3333333333333333, \"#9c179e\"], [0.4444444444444444, \"#bd3786\"], [0.5555555555555556, \"#d8576b\"], [0.6666666666666666, \"#ed7953\"], [0.7777777777777778, \"#fb9f3a\"], [0.8888888888888888, \"#fdca26\"], [1.0, \"#f0f921\"]], \"type\": \"contour\"}], \"contourcarpet\": [{\"colorbar\": {\"outlinewidth\": 0, \"ticks\": \"\"}, \"type\": \"contourcarpet\"}], \"heatmap\": [{\"colorbar\": {\"outlinewidth\": 0, \"ticks\": \"\"}, \"colorscale\": [[0.0, \"#0d0887\"], [0.1111111111111111, \"#46039f\"], [0.2222222222222222, \"#7201a8\"], [0.3333333333333333, \"#9c179e\"], [0.4444444444444444, \"#bd3786\"], [0.5555555555555556, \"#d8576b\"], [0.6666666666666666, \"#ed7953\"], [0.7777777777777778, \"#fb9f3a\"], [0.8888888888888888, \"#fdca26\"], [1.0, \"#f0f921\"]], \"type\": \"heatmap\"}], \"heatmapgl\": [{\"colorbar\": {\"outlinewidth\": 0, \"ticks\": \"\"}, \"colorscale\": [[0.0, \"#0d0887\"], [0.1111111111111111, \"#46039f\"], [0.2222222222222222, \"#7201a8\"], [0.3333333333333333, \"#9c179e\"], [0.4444444444444444, \"#bd3786\"], [0.5555555555555556, \"#d8576b\"], [0.6666666666666666, \"#ed7953\"], [0.7777777777777778, \"#fb9f3a\"], [0.8888888888888888, \"#fdca26\"], [1.0, \"#f0f921\"]], \"type\": \"heatmapgl\"}], \"histogram\": [{\"marker\": {\"colorbar\": {\"outlinewidth\": 0, \"ticks\": \"\"}}, \"type\": \"histogram\"}], \"histogram2d\": [{\"colorbar\": {\"outlinewidth\": 0, \"ticks\": \"\"}, \"colorscale\": [[0.0, \"#0d0887\"], [0.1111111111111111, \"#46039f\"], [0.2222222222222222, \"#7201a8\"], [0.3333333333333333, \"#9c179e\"], [0.4444444444444444, \"#bd3786\"], [0.5555555555555556, \"#d8576b\"], [0.6666666666666666, \"#ed7953\"], [0.7777777777777778, \"#fb9f3a\"], [0.8888888888888888, \"#fdca26\"], [1.0, \"#f0f921\"]], \"type\": \"histogram2d\"}], \"histogram2dcontour\": [{\"colorbar\": {\"outlinewidth\": 0, \"ticks\": \"\"}, \"colorscale\": [[0.0, \"#0d0887\"], [0.1111111111111111, \"#46039f\"], [0.2222222222222222, \"#7201a8\"], [0.3333333333333333, \"#9c179e\"], [0.4444444444444444, \"#bd3786\"], [0.5555555555555556, \"#d8576b\"], [0.6666666666666666, \"#ed7953\"], [0.7777777777777778, \"#fb9f3a\"], [0.8888888888888888, \"#fdca26\"], [1.0, \"#f0f921\"]], \"type\": \"histogram2dcontour\"}], \"mesh3d\": [{\"colorbar\": {\"outlinewidth\": 0, \"ticks\": \"\"}, \"type\": \"mesh3d\"}], \"parcoords\": [{\"line\": {\"colorbar\": {\"outlinewidth\": 0, \"ticks\": \"\"}}, \"type\": \"parcoords\"}], \"scatter\": [{\"marker\": {\"colorbar\": {\"outlinewidth\": 0, \"ticks\": \"\"}}, \"type\": \"scatter\"}], \"scatter3d\": [{\"line\": {\"colorbar\": {\"outlinewidth\": 0, \"ticks\": \"\"}}, \"marker\": {\"colorbar\": {\"outlinewidth\": 0, \"ticks\": \"\"}}, \"type\": \"scatter3d\"}], \"scattercarpet\": [{\"marker\": {\"colorbar\": {\"outlinewidth\": 0, \"ticks\": \"\"}}, \"type\": \"scattercarpet\"}], \"scattergeo\": [{\"marker\": {\"colorbar\": {\"outlinewidth\": 0, \"ticks\": \"\"}}, \"type\": \"scattergeo\"}], \"scattergl\": [{\"marker\": {\"colorbar\": {\"outlinewidth\": 0, \"ticks\": \"\"}}, \"type\": \"scattergl\"}], \"scattermapbox\": [{\"marker\": {\"colorbar\": {\"outlinewidth\": 0, \"ticks\": \"\"}}, \"type\": \"scattermapbox\"}], \"scatterpolar\": [{\"marker\": {\"colorbar\": {\"outlinewidth\": 0, \"ticks\": \"\"}}, \"type\": \"scatterpolar\"}], \"scatterpolargl\": [{\"marker\": {\"colorbar\": {\"outlinewidth\": 0, \"ticks\": \"\"}}, \"type\": \"scatterpolargl\"}], \"scatterternary\": [{\"marker\": {\"colorbar\": {\"outlinewidth\": 0, \"ticks\": \"\"}}, \"type\": \"scatterternary\"}], \"surface\": [{\"colorbar\": {\"outlinewidth\": 0, \"ticks\": \"\"}, \"colorscale\": [[0.0, \"#0d0887\"], [0.1111111111111111, \"#46039f\"], [0.2222222222222222, \"#7201a8\"], [0.3333333333333333, \"#9c179e\"], [0.4444444444444444, \"#bd3786\"], [0.5555555555555556, \"#d8576b\"], [0.6666666666666666, \"#ed7953\"], [0.7777777777777778, \"#fb9f3a\"], [0.8888888888888888, \"#fdca26\"], [1.0, \"#f0f921\"]], \"type\": \"surface\"}], \"table\": [{\"cells\": {\"fill\": {\"color\": \"#EBF0F8\"}, \"line\": {\"color\": \"white\"}}, \"header\": {\"fill\": {\"color\": \"#C8D4E3\"}, \"line\": {\"color\": \"white\"}}, \"type\": \"table\"}]}, \"layout\": {\"annotationdefaults\": {\"arrowcolor\": \"#2a3f5f\", \"arrowhead\": 0, \"arrowwidth\": 1}, \"colorscale\": {\"diverging\": [[0, \"#8e0152\"], [0.1, \"#c51b7d\"], [0.2, \"#de77ae\"], [0.3, \"#f1b6da\"], [0.4, \"#fde0ef\"], [0.5, \"#f7f7f7\"], [0.6, \"#e6f5d0\"], [0.7, \"#b8e186\"], [0.8, \"#7fbc41\"], [0.9, \"#4d9221\"], [1, \"#276419\"]], \"sequential\": [[0.0, \"#0d0887\"], [0.1111111111111111, \"#46039f\"], [0.2222222222222222, \"#7201a8\"], [0.3333333333333333, \"#9c179e\"], [0.4444444444444444, \"#bd3786\"], [0.5555555555555556, \"#d8576b\"], [0.6666666666666666, \"#ed7953\"], [0.7777777777777778, \"#fb9f3a\"], [0.8888888888888888, \"#fdca26\"], [1.0, \"#f0f921\"]], \"sequentialminus\": [[0.0, \"#0d0887\"], [0.1111111111111111, \"#46039f\"], [0.2222222222222222, \"#7201a8\"], [0.3333333333333333, \"#9c179e\"], [0.4444444444444444, \"#bd3786\"], [0.5555555555555556, \"#d8576b\"], [0.6666666666666666, \"#ed7953\"], [0.7777777777777778, \"#fb9f3a\"], [0.8888888888888888, \"#fdca26\"], [1.0, \"#f0f921\"]]}, \"colorway\": [\"#636efa\", \"#EF553B\", \"#00cc96\", \"#ab63fa\", \"#FFA15A\", \"#19d3f3\", \"#FF6692\", \"#B6E880\", \"#FF97FF\", \"#FECB52\"], \"font\": {\"color\": \"#2a3f5f\"}, \"geo\": {\"bgcolor\": \"white\", \"lakecolor\": \"white\", \"landcolor\": \"#E5ECF6\", \"showlakes\": true, \"showland\": true, \"subunitcolor\": \"white\"}, \"hoverlabel\": {\"align\": \"left\"}, \"hovermode\": \"closest\", \"mapbox\": {\"style\": \"light\"}, \"paper_bgcolor\": \"white\", \"plot_bgcolor\": \"#E5ECF6\", \"polar\": {\"angularaxis\": {\"gridcolor\": \"white\", \"linecolor\": \"white\", \"ticks\": \"\"}, \"bgcolor\": \"#E5ECF6\", \"radialaxis\": {\"gridcolor\": \"white\", \"linecolor\": \"white\", \"ticks\": \"\"}}, \"scene\": {\"xaxis\": {\"backgroundcolor\": \"#E5ECF6\", \"gridcolor\": \"white\", \"gridwidth\": 2, \"linecolor\": \"white\", \"showbackground\": true, \"ticks\": \"\", \"zerolinecolor\": \"white\"}, \"yaxis\": {\"backgroundcolor\": \"#E5ECF6\", \"gridcolor\": \"white\", \"gridwidth\": 2, \"linecolor\": \"white\", \"showbackground\": true, \"ticks\": \"\", \"zerolinecolor\": \"white\"}, \"zaxis\": {\"backgroundcolor\": \"#E5ECF6\", \"gridcolor\": \"white\", \"gridwidth\": 2, \"linecolor\": \"white\", \"showbackground\": true, \"ticks\": \"\", \"zerolinecolor\": \"white\"}}, \"shapedefaults\": {\"line\": {\"color\": \"#2a3f5f\"}}, \"ternary\": {\"aaxis\": {\"gridcolor\": \"white\", \"linecolor\": \"white\", \"ticks\": \"\"}, \"baxis\": {\"gridcolor\": \"white\", \"linecolor\": \"white\", \"ticks\": \"\"}, \"bgcolor\": \"#E5ECF6\", \"caxis\": {\"gridcolor\": \"white\", \"linecolor\": \"white\", \"ticks\": \"\"}}, \"title\": {\"x\": 0.05}, \"xaxis\": {\"automargin\": true, \"gridcolor\": \"white\", \"linecolor\": \"white\", \"ticks\": \"\", \"zerolinecolor\": \"white\", \"zerolinewidth\": 2}, \"yaxis\": {\"automargin\": true, \"gridcolor\": \"white\", \"linecolor\": \"white\", \"ticks\": \"\", \"zerolinecolor\": \"white\", \"zerolinewidth\": 2}}}},\n",
              "                        {\"responsive\": true}\n",
              "                    ).then(function(){\n",
              "                            \n",
              "var gd = document.getElementById('0c8648e2-a26e-4556-a3a8-d9f3b9453f7e');\n",
              "var x = new MutationObserver(function (mutations, observer) {{\n",
              "        var display = window.getComputedStyle(gd).display;\n",
              "        if (!display || display === 'none') {{\n",
              "            console.log([gd, 'removed!']);\n",
              "            Plotly.purge(gd);\n",
              "            observer.disconnect();\n",
              "        }}\n",
              "}});\n",
              "\n",
              "// Listen for the removal of the full notebook cells\n",
              "var notebookContainer = gd.closest('#notebook-container');\n",
              "if (notebookContainer) {{\n",
              "    x.observe(notebookContainer, {childList: true});\n",
              "}}\n",
              "\n",
              "// Listen for the clearing of the current output cell\n",
              "var outputEl = gd.closest('.output');\n",
              "if (outputEl) {{\n",
              "    x.observe(outputEl, {childList: true});\n",
              "}}\n",
              "\n",
              "                        })\n",
              "                };\n",
              "                \n",
              "            </script>\n",
              "        </div>\n",
              "</body>\n",
              "</html>"
            ]
          },
          "metadata": {
            "tags": []
          }
        }
      ]
    },
    {
      "cell_type": "markdown",
      "metadata": {
        "id": "8uN78cTjOQr1",
        "colab_type": "text"
      },
      "source": [
        "<br>\n",
        "<br>"
      ]
    },
    {
      "cell_type": "markdown",
      "metadata": {
        "id": "4IlJhutBOQr3",
        "colab_type": "text"
      },
      "source": [
        "## Shortcut - PCA in scikit-learn"
      ]
    },
    {
      "cell_type": "markdown",
      "metadata": {
        "id": "gPszlRngOQr6",
        "colab_type": "text"
      },
      "source": [
        "For educational purposes, we went a long way to apply the PCA to the Iris dataset. But luckily, there is already implementation in scikit-learn. "
      ]
    },
    {
      "cell_type": "code",
      "metadata": {
        "id": "kM9M02-VOQr8",
        "colab_type": "code",
        "colab": {}
      },
      "source": [
        "from sklearn.decomposition import PCA as sklearnPCA\n",
        "sklearn_pca = sklearnPCA(n_components=2)\n",
        "Y_sklearn = sklearn_pca.fit_transform(X_std)"
      ],
      "execution_count": 0,
      "outputs": []
    },
    {
      "cell_type": "code",
      "metadata": {
        "id": "wl8gan-ROQr_",
        "colab_type": "code",
        "colab": {
          "base_uri": "https://localhost:8080/",
          "height": 542
        },
        "outputId": "c5a4741e-d953-42a1-c7cf-dd992ee70ea1"
      },
      "source": [
        "data = []\n",
        "\n",
        "for name, col in zip(('Iris-setosa', 'Iris-versicolor', 'Iris-virginica'), colors.values()):\n",
        "\n",
        "    trace = dict(\n",
        "        type='scatter',\n",
        "        x=Y_sklearn[y==name,0],\n",
        "        y=Y_sklearn[y==name,1],\n",
        "        mode='markers',\n",
        "        name=name,\n",
        "        marker=dict(\n",
        "            color=col,\n",
        "            size=12,\n",
        "            line=dict(\n",
        "                color='rgba(217, 217, 217, 0.14)',\n",
        "                width=0.5),\n",
        "            opacity=0.8)\n",
        "    )\n",
        "    data.append(trace)\n",
        "\n",
        "layout = dict(\n",
        "        xaxis=dict(title='PC1', showline=False),\n",
        "        yaxis=dict(title='PC2', showline=False)\n",
        ")\n",
        "fig = dict(data=data, layout=layout)\n",
        "py.iplot(fig, filename='pca-scikitlearn')"
      ],
      "execution_count": 19,
      "outputs": [
        {
          "output_type": "display_data",
          "data": {
            "text/html": [
              "<html>\n",
              "<head><meta charset=\"utf-8\" /></head>\n",
              "<body>\n",
              "    <div>\n",
              "            <script src=\"https://cdnjs.cloudflare.com/ajax/libs/mathjax/2.7.5/MathJax.js?config=TeX-AMS-MML_SVG\"></script><script type=\"text/javascript\">if (window.MathJax) {MathJax.Hub.Config({SVG: {font: \"STIX-Web\"}});}</script>\n",
              "                <script type=\"text/javascript\">window.PlotlyConfig = {MathJaxConfig: 'local'};</script>\n",
              "        <script src=\"https://cdn.plot.ly/plotly-latest.min.js\"></script>    \n",
              "            <div id=\"58128f90-95dd-4ef4-b0cf-b68efcac4999\" class=\"plotly-graph-div\" style=\"height:525px; width:100%;\"></div>\n",
              "            <script type=\"text/javascript\">\n",
              "                \n",
              "                    window.PLOTLYENV=window.PLOTLYENV || {};\n",
              "                    \n",
              "                if (document.getElementById(\"58128f90-95dd-4ef4-b0cf-b68efcac4999\")) {\n",
              "                    Plotly.newPlot(\n",
              "                        '58128f90-95dd-4ef4-b0cf-b68efcac4999',\n",
              "                        [{\"marker\": {\"color\": \"#0D76BF\", \"line\": {\"color\": \"rgba(217, 217, 217, 0.14)\", \"width\": 0.5}, \"opacity\": 0.8, \"size\": 12}, \"mode\": \"markers\", \"name\": \"Iris-setosa\", \"type\": \"scatter\", \"x\": [-2.264541728394904, -2.0864255006161585, -2.3679504490625254, -2.3041971611520085, -2.388777493505642, -2.070536807180553, -2.445711339630283, -2.233841858709265, -2.34195767645539, -2.1886757552808693, -2.1634865562665224, -2.3273777541343734, -2.2240827220450017, -2.6397162608446285, -2.192291508498429, -2.251465214584065, -2.2027504800800854, -2.1901791637910515, -1.8940742930236678, -2.339949070423408, -1.9145563949595168, -2.2046453975338136, -2.7741697937051564, -1.8204115633372135, -2.2282174994597246, -1.9570240073413967, -2.052063311276686, -2.168193653345021, -2.140305963284157, -2.2687901943878765, -2.1445544292771346, -1.8319381022015866, -2.6082028676633473, -2.4379508590951424, -2.1886757552808693, -2.2111198968124217, -2.0444165193198, -2.1886757552808693, -2.4359522029660194, -2.17054720188427, -2.28652723884093, -1.8717072235369503, -2.5578344195375124, -1.9642792903547368, -2.1333728329200277, -2.075357592837306, -2.381258216802373, -2.398191687662638, -2.226781213091518, -2.205954168648402], \"y\": [0.5057039027737841, -0.6554047293691346, -0.3184773108472492, -0.5753677125331953, 0.6747673967025152, 1.518548559888513, 0.07456267500687389, 0.24761393175226507, -1.0951463625829554, -0.44862904833755896, 1.0705955760377264, 0.15858745465947602, -0.709118158030226, -0.938281982107854, 1.8899785123164656, 2.722371076574469, 1.5137502825462188, 0.5143043082206927, 1.431110706941237, 1.1580334289850007, 0.4304651632801381, 0.952457317288998, 0.48951702650349477, 0.10675079283540627, 0.16218616266619693, -0.6078925674838078, 0.26601431198165504, 0.5520164953235399, 0.3366404088450542, -0.31487860284052827, -0.48394209676925876, 0.4452668355028073, 1.8284751927341, 2.1853916156308917, -0.44862904833755896, -0.18433781054027856, 0.6849564262949368, -0.44862904833755896, -0.882169414775617, 0.29272695496644646, 0.46799171567093784, -2.3276916061149096, -0.45381638048979317, 0.4973916400183832, 1.1714321117742033, -0.6919173471364096, 1.1506325928736663, -0.3623907647258571, 1.0254825528235447, 0.0322378452737796]}, {\"marker\": {\"color\": \"#00cc96\", \"line\": {\"color\": \"rgba(217, 217, 217, 0.14)\", \"width\": 0.5}, \"opacity\": 0.8, \"size\": 12}, \"mode\": \"markers\", \"name\": \"Iris-versicolor\", \"type\": \"scatter\", \"x\": [1.103993652804572, 0.7324814400086805, 1.2421095053189373, 0.39730728282332733, 1.0725939482015447, 0.38445814616900154, 0.7487150759515527, -0.49786338779811795, 0.9262223675330981, 0.004968025584319377, -0.12469746138037044, 0.43873011778054666, 0.5516339814225074, 0.7171650662368511, -0.037258382965688376, 0.8758905359406827, 0.34800640198020866, 0.153392544568667, 1.2153032092161538, 0.15694117564425078, 0.7382561043698959, 0.47236968234456833, 1.2279882140834422, 0.6293810453149017, 0.7004727992084581, 0.8735369874014334, 1.2542221905224498, 1.3582398473872712, 0.6621261375659375, -0.04728151331988013, 0.12153420888011877, 0.014118226051387787, 0.23601083732659692, 1.0566914280905766, 0.22141708833021806, 0.43178316074105344, 1.0494133552191798, 1.0358782103228243, 0.06706759987298028, 0.2754250662518342, 0.27233506626177206, 0.6231705397262214, 0.3300053638372265, -0.373627622687376, 0.2829443429551028, 0.0890531103190114, 0.2243567832086061, 0.5738834855584668, -0.4570128725046746, 0.2522444732694693], \"y\": [0.8631124458513245, 0.5986355733419972, 0.6148224496122869, -1.7581689474435256, -0.2117579026798954, -0.5910624686227365, 0.7786986113887819, -1.8488687712754417, 0.03033082678338136, -1.029401112403088, -2.6580626779617607, -0.05888128502145437, -1.7725815648562542, -0.18543431450504383, -0.4327950987141687, 0.5099981510591476, -0.19062164665727788, -0.7907254562344853, -1.633355644515482, -1.3031032701729108, 0.4024703816185357, -0.4166082224438792, -0.940914792530272, -0.4168116425417719, -0.06349392765170202, 0.25070861070205414, -0.0826200998131122, 0.3288202662704021, -0.22434607094346407, -1.0572124126050202, -1.5635923798655775, -1.5733923546480593, -0.7759237840118163, -0.6369012837689368, -0.2808476930856404, 0.8551369202180025, 0.5221972645127767, -1.39246648438778, -0.21262073489338879, -1.3298159131577019, -1.1194415241194038, 0.027542633302294464, -0.9889007318191547, -2.017932265204172, -0.85395071698655, -0.17490854779054174, -0.3804846594865455, -0.15371997408006488, -1.5394645102639806, -0.595860745965031]}, {\"marker\": {\"color\": \"#EF553B\", \"line\": {\"color\": \"rgba(217, 217, 217, 0.14)\", \"width\": 0.5}, \"opacity\": 0.8, \"size\": 12}, \"mode\": \"markers\", \"name\": \"Iris-virginica\", \"type\": \"scatter\", \"x\": [1.8476725943096641, 1.1531898082521295, 2.206349497126593, 1.438685402326182, 1.8678907025555844, 2.7541967088257517, 0.35837447484166807, 2.3030058981503188, 2.0017352992189164, 2.267554599102268, 1.365909429202214, 1.5990645856518693, 1.8842518537520743, 1.2530865143775918, 1.4640615229856226, 1.5918093026385285, 1.4712801894655436, 2.437378482193507, 3.309141182676079, 1.2539809866905776, 2.0404962596630387, 0.9739151144704737, 2.8980644358432763, 1.3291936913234932, 1.7042407085196056, 1.957727661793435, 1.1719045079878685, 1.019781052816263, 1.7860088612484681, 1.8647779127074657, 2.4354973914151423, 2.3160824119611534, 1.860371425852316, 1.111271725675969, 1.1974691551180376, 2.800949403734028, 1.5801552485205366, 1.3470444243548014, 0.9234329777663841, 1.8535519840664405, 2.0161572006777586, 1.9031168585994869, 1.1531898082521295, 2.043308439287809, 2.001690966934998, 1.870522071460125, 1.558491890723717, 1.5208450639985898, 1.3763911906419275, 0.9592985756160379], \"y\": [0.8716966617734127, -0.7013261138565754, 0.5544701049349228, -0.05001052226888553, 0.29119280176116913, 0.7884322063548452, -1.560094583977289, 0.4095166952219437, -0.723865359312659, 1.9214429914653548, 0.6939480398041611, -0.42824883590033935, 0.4143327579500842, -1.1673913352452454, -0.4441475694791236, 0.6770353716018516, 0.25319247196681555, 2.5567573414948015, -0.0023613201020824923, -1.7175838442659768, 0.9073987650150531, -0.5711743763662661, 0.3977913591718686, -0.4867605419037237, 1.014148424835785, 1.0033345154297773, -0.3188966173105676, 0.06554296309664809, -0.19327279985689128, 0.55538153157899, 0.24665446806897456, 2.6261838690226273, -0.18467239440998312, -0.29598610243039014, -0.8171677419136159, 0.8447481937849748, 1.0724744961271222, 0.42225596589554615, 0.019230370546893197, 0.672422728971604, 0.6103970375551129, 0.6860248318586996, -0.7013261138565754, 0.8646848804720187, 1.0485500466234177, 0.3828218376229984, -0.9053136014070654, 0.2667945748539109, 1.0163619287948853, -0.022283944660567125]}],\n",
              "                        {\"template\": {\"data\": {\"bar\": [{\"error_x\": {\"color\": \"#2a3f5f\"}, \"error_y\": {\"color\": \"#2a3f5f\"}, \"marker\": {\"line\": {\"color\": \"#E5ECF6\", \"width\": 0.5}}, \"type\": \"bar\"}], \"barpolar\": [{\"marker\": {\"line\": {\"color\": \"#E5ECF6\", \"width\": 0.5}}, \"type\": \"barpolar\"}], \"carpet\": [{\"aaxis\": {\"endlinecolor\": \"#2a3f5f\", \"gridcolor\": \"white\", \"linecolor\": \"white\", \"minorgridcolor\": \"white\", \"startlinecolor\": \"#2a3f5f\"}, \"baxis\": {\"endlinecolor\": \"#2a3f5f\", \"gridcolor\": \"white\", \"linecolor\": \"white\", \"minorgridcolor\": \"white\", \"startlinecolor\": \"#2a3f5f\"}, \"type\": \"carpet\"}], \"choropleth\": [{\"colorbar\": {\"outlinewidth\": 0, \"ticks\": \"\"}, \"type\": \"choropleth\"}], \"contour\": [{\"colorbar\": {\"outlinewidth\": 0, \"ticks\": \"\"}, \"colorscale\": [[0.0, \"#0d0887\"], [0.1111111111111111, \"#46039f\"], [0.2222222222222222, \"#7201a8\"], [0.3333333333333333, \"#9c179e\"], [0.4444444444444444, \"#bd3786\"], [0.5555555555555556, \"#d8576b\"], [0.6666666666666666, \"#ed7953\"], [0.7777777777777778, \"#fb9f3a\"], [0.8888888888888888, \"#fdca26\"], [1.0, \"#f0f921\"]], \"type\": \"contour\"}], \"contourcarpet\": [{\"colorbar\": {\"outlinewidth\": 0, \"ticks\": \"\"}, \"type\": \"contourcarpet\"}], \"heatmap\": [{\"colorbar\": {\"outlinewidth\": 0, \"ticks\": \"\"}, \"colorscale\": [[0.0, \"#0d0887\"], [0.1111111111111111, \"#46039f\"], [0.2222222222222222, \"#7201a8\"], [0.3333333333333333, \"#9c179e\"], [0.4444444444444444, \"#bd3786\"], [0.5555555555555556, \"#d8576b\"], [0.6666666666666666, \"#ed7953\"], [0.7777777777777778, \"#fb9f3a\"], [0.8888888888888888, \"#fdca26\"], [1.0, \"#f0f921\"]], \"type\": \"heatmap\"}], \"heatmapgl\": [{\"colorbar\": {\"outlinewidth\": 0, \"ticks\": \"\"}, \"colorscale\": [[0.0, \"#0d0887\"], [0.1111111111111111, \"#46039f\"], [0.2222222222222222, \"#7201a8\"], [0.3333333333333333, \"#9c179e\"], [0.4444444444444444, \"#bd3786\"], [0.5555555555555556, \"#d8576b\"], [0.6666666666666666, \"#ed7953\"], [0.7777777777777778, \"#fb9f3a\"], [0.8888888888888888, \"#fdca26\"], [1.0, \"#f0f921\"]], \"type\": \"heatmapgl\"}], \"histogram\": [{\"marker\": {\"colorbar\": {\"outlinewidth\": 0, \"ticks\": \"\"}}, \"type\": \"histogram\"}], \"histogram2d\": [{\"colorbar\": {\"outlinewidth\": 0, \"ticks\": \"\"}, \"colorscale\": [[0.0, \"#0d0887\"], [0.1111111111111111, \"#46039f\"], [0.2222222222222222, \"#7201a8\"], [0.3333333333333333, \"#9c179e\"], [0.4444444444444444, \"#bd3786\"], [0.5555555555555556, \"#d8576b\"], [0.6666666666666666, \"#ed7953\"], [0.7777777777777778, \"#fb9f3a\"], [0.8888888888888888, \"#fdca26\"], [1.0, \"#f0f921\"]], \"type\": \"histogram2d\"}], \"histogram2dcontour\": [{\"colorbar\": {\"outlinewidth\": 0, \"ticks\": \"\"}, \"colorscale\": [[0.0, \"#0d0887\"], [0.1111111111111111, \"#46039f\"], [0.2222222222222222, \"#7201a8\"], [0.3333333333333333, \"#9c179e\"], [0.4444444444444444, \"#bd3786\"], [0.5555555555555556, \"#d8576b\"], [0.6666666666666666, \"#ed7953\"], [0.7777777777777778, \"#fb9f3a\"], [0.8888888888888888, \"#fdca26\"], [1.0, \"#f0f921\"]], \"type\": \"histogram2dcontour\"}], \"mesh3d\": [{\"colorbar\": {\"outlinewidth\": 0, \"ticks\": \"\"}, \"type\": \"mesh3d\"}], \"parcoords\": [{\"line\": {\"colorbar\": {\"outlinewidth\": 0, \"ticks\": \"\"}}, \"type\": \"parcoords\"}], \"scatter\": [{\"marker\": {\"colorbar\": {\"outlinewidth\": 0, \"ticks\": \"\"}}, \"type\": \"scatter\"}], \"scatter3d\": [{\"line\": {\"colorbar\": {\"outlinewidth\": 0, \"ticks\": \"\"}}, \"marker\": {\"colorbar\": {\"outlinewidth\": 0, \"ticks\": \"\"}}, \"type\": \"scatter3d\"}], \"scattercarpet\": [{\"marker\": {\"colorbar\": {\"outlinewidth\": 0, \"ticks\": \"\"}}, \"type\": \"scattercarpet\"}], \"scattergeo\": [{\"marker\": {\"colorbar\": {\"outlinewidth\": 0, \"ticks\": \"\"}}, \"type\": \"scattergeo\"}], \"scattergl\": [{\"marker\": {\"colorbar\": {\"outlinewidth\": 0, \"ticks\": \"\"}}, \"type\": \"scattergl\"}], \"scattermapbox\": [{\"marker\": {\"colorbar\": {\"outlinewidth\": 0, \"ticks\": \"\"}}, \"type\": \"scattermapbox\"}], \"scatterpolar\": [{\"marker\": {\"colorbar\": {\"outlinewidth\": 0, \"ticks\": \"\"}}, \"type\": \"scatterpolar\"}], \"scatterpolargl\": [{\"marker\": {\"colorbar\": {\"outlinewidth\": 0, \"ticks\": \"\"}}, \"type\": \"scatterpolargl\"}], \"scatterternary\": [{\"marker\": {\"colorbar\": {\"outlinewidth\": 0, \"ticks\": \"\"}}, \"type\": \"scatterternary\"}], \"surface\": [{\"colorbar\": {\"outlinewidth\": 0, \"ticks\": \"\"}, \"colorscale\": [[0.0, \"#0d0887\"], [0.1111111111111111, \"#46039f\"], [0.2222222222222222, \"#7201a8\"], [0.3333333333333333, \"#9c179e\"], [0.4444444444444444, \"#bd3786\"], [0.5555555555555556, \"#d8576b\"], [0.6666666666666666, \"#ed7953\"], [0.7777777777777778, \"#fb9f3a\"], [0.8888888888888888, \"#fdca26\"], [1.0, \"#f0f921\"]], \"type\": \"surface\"}], \"table\": [{\"cells\": {\"fill\": {\"color\": \"#EBF0F8\"}, \"line\": {\"color\": \"white\"}}, \"header\": {\"fill\": {\"color\": \"#C8D4E3\"}, \"line\": {\"color\": \"white\"}}, \"type\": \"table\"}]}, \"layout\": {\"annotationdefaults\": {\"arrowcolor\": \"#2a3f5f\", \"arrowhead\": 0, \"arrowwidth\": 1}, \"colorscale\": {\"diverging\": [[0, \"#8e0152\"], [0.1, \"#c51b7d\"], [0.2, \"#de77ae\"], [0.3, \"#f1b6da\"], [0.4, \"#fde0ef\"], [0.5, \"#f7f7f7\"], [0.6, \"#e6f5d0\"], [0.7, \"#b8e186\"], [0.8, \"#7fbc41\"], [0.9, \"#4d9221\"], [1, \"#276419\"]], \"sequential\": [[0.0, \"#0d0887\"], [0.1111111111111111, \"#46039f\"], [0.2222222222222222, \"#7201a8\"], [0.3333333333333333, \"#9c179e\"], [0.4444444444444444, \"#bd3786\"], [0.5555555555555556, \"#d8576b\"], [0.6666666666666666, \"#ed7953\"], [0.7777777777777778, \"#fb9f3a\"], [0.8888888888888888, \"#fdca26\"], [1.0, \"#f0f921\"]], \"sequentialminus\": [[0.0, \"#0d0887\"], [0.1111111111111111, \"#46039f\"], [0.2222222222222222, \"#7201a8\"], [0.3333333333333333, \"#9c179e\"], [0.4444444444444444, \"#bd3786\"], [0.5555555555555556, \"#d8576b\"], [0.6666666666666666, \"#ed7953\"], [0.7777777777777778, \"#fb9f3a\"], [0.8888888888888888, \"#fdca26\"], [1.0, \"#f0f921\"]]}, \"colorway\": [\"#636efa\", \"#EF553B\", \"#00cc96\", \"#ab63fa\", \"#FFA15A\", \"#19d3f3\", \"#FF6692\", \"#B6E880\", \"#FF97FF\", \"#FECB52\"], \"font\": {\"color\": \"#2a3f5f\"}, \"geo\": {\"bgcolor\": \"white\", \"lakecolor\": \"white\", \"landcolor\": \"#E5ECF6\", \"showlakes\": true, \"showland\": true, \"subunitcolor\": \"white\"}, \"hoverlabel\": {\"align\": \"left\"}, \"hovermode\": \"closest\", \"mapbox\": {\"style\": \"light\"}, \"paper_bgcolor\": \"white\", \"plot_bgcolor\": \"#E5ECF6\", \"polar\": {\"angularaxis\": {\"gridcolor\": \"white\", \"linecolor\": \"white\", \"ticks\": \"\"}, \"bgcolor\": \"#E5ECF6\", \"radialaxis\": {\"gridcolor\": \"white\", \"linecolor\": \"white\", \"ticks\": \"\"}}, \"scene\": {\"xaxis\": {\"backgroundcolor\": \"#E5ECF6\", \"gridcolor\": \"white\", \"gridwidth\": 2, \"linecolor\": \"white\", \"showbackground\": true, \"ticks\": \"\", \"zerolinecolor\": \"white\"}, \"yaxis\": {\"backgroundcolor\": \"#E5ECF6\", \"gridcolor\": \"white\", \"gridwidth\": 2, \"linecolor\": \"white\", \"showbackground\": true, \"ticks\": \"\", \"zerolinecolor\": \"white\"}, \"zaxis\": {\"backgroundcolor\": \"#E5ECF6\", \"gridcolor\": \"white\", \"gridwidth\": 2, \"linecolor\": \"white\", \"showbackground\": true, \"ticks\": \"\", \"zerolinecolor\": \"white\"}}, \"shapedefaults\": {\"line\": {\"color\": \"#2a3f5f\"}}, \"ternary\": {\"aaxis\": {\"gridcolor\": \"white\", \"linecolor\": \"white\", \"ticks\": \"\"}, \"baxis\": {\"gridcolor\": \"white\", \"linecolor\": \"white\", \"ticks\": \"\"}, \"bgcolor\": \"#E5ECF6\", \"caxis\": {\"gridcolor\": \"white\", \"linecolor\": \"white\", \"ticks\": \"\"}}, \"title\": {\"x\": 0.05}, \"xaxis\": {\"automargin\": true, \"gridcolor\": \"white\", \"linecolor\": \"white\", \"ticks\": \"\", \"zerolinecolor\": \"white\", \"zerolinewidth\": 2}, \"yaxis\": {\"automargin\": true, \"gridcolor\": \"white\", \"linecolor\": \"white\", \"ticks\": \"\", \"zerolinecolor\": \"white\", \"zerolinewidth\": 2}}}, \"xaxis\": {\"showline\": false, \"title\": {\"text\": \"PC1\"}}, \"yaxis\": {\"showline\": false, \"title\": {\"text\": \"PC2\"}}},\n",
              "                        {\"responsive\": true}\n",
              "                    ).then(function(){\n",
              "                            \n",
              "var gd = document.getElementById('58128f90-95dd-4ef4-b0cf-b68efcac4999');\n",
              "var x = new MutationObserver(function (mutations, observer) {{\n",
              "        var display = window.getComputedStyle(gd).display;\n",
              "        if (!display || display === 'none') {{\n",
              "            console.log([gd, 'removed!']);\n",
              "            Plotly.purge(gd);\n",
              "            observer.disconnect();\n",
              "        }}\n",
              "}});\n",
              "\n",
              "// Listen for the removal of the full notebook cells\n",
              "var notebookContainer = gd.closest('#notebook-container');\n",
              "if (notebookContainer) {{\n",
              "    x.observe(notebookContainer, {childList: true});\n",
              "}}\n",
              "\n",
              "// Listen for the clearing of the current output cell\n",
              "var outputEl = gd.closest('.output');\n",
              "if (outputEl) {{\n",
              "    x.observe(outputEl, {childList: true});\n",
              "}}\n",
              "\n",
              "                        })\n",
              "                };\n",
              "                \n",
              "            </script>\n",
              "        </div>\n",
              "</body>\n",
              "</html>"
            ]
          },
          "metadata": {
            "tags": []
          }
        }
      ]
    }
  ]
}